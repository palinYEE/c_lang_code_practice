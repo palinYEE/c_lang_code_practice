{
  "nbformat": 4,
  "nbformat_minor": 0,
  "metadata": {
    "kernelspec": {
      "display_name": "Python 3",
      "language": "python",
      "name": "python3"
    },
    "language_info": {
      "codemirror_mode": {
        "name": "ipython",
        "version": 3
      },
      "file_extension": ".py",
      "mimetype": "text/x-python",
      "name": "python",
      "nbconvert_exporter": "python",
      "pygments_lexer": "ipython3",
      "version": "3.7.3"
    },
    "colab": {
      "name": "[검수완료]Part2_13. PyTorch에서 데이터 불러오기.ipynb",
      "provenance": [],
      "toc_visible": true
    }
  },
  "cells": [
    {
      "cell_type": "markdown",
      "metadata": {
        "id": "idguRZgC8YJl",
        "colab_type": "text"
      },
      "source": [
        "https://github.com/pytorch/examples/tree/master/mnist"
      ]
    },
    {
      "cell_type": "markdown",
      "metadata": {
        "id": "GvMzTDKZ8YJn",
        "colab_type": "text"
      },
      "source": [
        "# PyTorch Data Preprocess"
      ]
    },
    {
      "cell_type": "code",
      "metadata": {
        "id": "lVl7TtHK8YJo",
        "colab_type": "code",
        "colab": {}
      },
      "source": [
        "import torch\n",
        "\n",
        "from torchvision import datasets, transforms"
      ],
      "execution_count": 1,
      "outputs": []
    },
    {
      "cell_type": "markdown",
      "metadata": {
        "id": "QOmG31338YJt",
        "colab_type": "text"
      },
      "source": [
        "### Data Loader 부르기\n",
        "\n",
        "파이토치는 DataLoader를 불러 model에 넣음"
      ]
    },
    {
      "cell_type": "code",
      "metadata": {
        "id": "-_RcQaIC8YJu",
        "colab_type": "code",
        "colab": {}
      },
      "source": [
        "batch_size = 32\n",
        "test_batch_size = 32"
      ],
      "execution_count": 2,
      "outputs": []
    },
    {
      "cell_type": "code",
      "metadata": {
        "id": "jK6fK58C8YJx",
        "colab_type": "code",
        "colab": {}
      },
      "source": [
        "train_loader = torch.utils.data.DataLoader(\n",
        "    datasets.MNIST('/content/dataset', train=True, download=True,\n",
        "                   transform=transforms.Compose([\n",
        "                      transforms.ToTensor(),\n",
        "                      transforms.Normalize(mean=(0.5,), std=(0.5,))      \n",
        "                   ])),\n",
        "                   batch_size=batch_size,\n",
        "                   shuffle=True)\n"
      ],
      "execution_count": 7,
      "outputs": []
    },
    {
      "cell_type": "code",
      "metadata": {
        "id": "_j2DZVsl8YJ0",
        "colab_type": "code",
        "colab": {}
      },
      "source": [
        "test_loader=torch.utils.data.DataLoader(\n",
        "    datasets.MNIST('/content/dataset',train=False,\n",
        "                   transform=transforms.Compose([\n",
        "                      transforms.ToTensor(),\n",
        "                      transforms.Normalize((0.5,),(0.5))\n",
        "                   ])),\n",
        "    batch_size=test_batch_size,\n",
        "    shuffle=True\n",
        ")\n",
        "#이미 위에서 MNIST 데이터셋을 다운로드받았기 때문에 별다른 출력이 없음"
      ],
      "execution_count": 5,
      "outputs": []
    },
    {
      "cell_type": "code",
      "metadata": {
        "id": "fGR8P2MY8YJ3",
        "colab_type": "code",
        "colab": {}
      },
      "source": [
        ""
      ],
      "execution_count": null,
      "outputs": []
    },
    {
      "cell_type": "markdown",
      "metadata": {
        "id": "hefPU69u8YJ4",
        "colab_type": "text"
      },
      "source": [
        "### 첫번재 iteration에서 나오는 데이터 확인"
      ]
    },
    {
      "cell_type": "code",
      "metadata": {
        "id": "0pkkkTvo8YJ5",
        "colab_type": "code",
        "colab": {}
      },
      "source": [
        "images, labels = next(iter(train_loader))"
      ],
      "execution_count": 8,
      "outputs": []
    },
    {
      "cell_type": "code",
      "metadata": {
        "id": "ym8GSxGK8YJ7",
        "colab_type": "code",
        "colab": {
          "base_uri": "https://localhost:8080/",
          "height": 34
        },
        "outputId": "08e53eca-ebdc-48d3-edfe-228972f072dd"
      },
      "source": [
        "images.shape"
      ],
      "execution_count": 9,
      "outputs": [
        {
          "output_type": "execute_result",
          "data": {
            "text/plain": [
              "torch.Size([32, 1, 28, 28])"
            ]
          },
          "metadata": {
            "tags": []
          },
          "execution_count": 9
        }
      ]
    },
    {
      "cell_type": "code",
      "metadata": {
        "id": "AmiUo-aP8YJ8",
        "colab_type": "code",
        "colab": {
          "base_uri": "https://localhost:8080/",
          "height": 34
        },
        "outputId": "3ae0fae9-e17c-4400-9548-907b622dfa40"
      },
      "source": [
        "labels.shape"
      ],
      "execution_count": 10,
      "outputs": [
        {
          "output_type": "execute_result",
          "data": {
            "text/plain": [
              "torch.Size([32])"
            ]
          },
          "metadata": {
            "tags": []
          },
          "execution_count": 10
        }
      ]
    },
    {
      "cell_type": "markdown",
      "metadata": {
        "id": "92VIBEHb8YJ9",
        "colab_type": "text"
      },
      "source": [
        "PyTorch는 TensorFlow와 다르게 [Batch Size, Channel, Height, Width] 임을 명시해야함"
      ]
    },
    {
      "cell_type": "markdown",
      "metadata": {
        "id": "KxHUDFJP8YJ-",
        "colab_type": "text"
      },
      "source": [
        "### 데이터 시각화"
      ]
    },
    {
      "cell_type": "code",
      "metadata": {
        "id": "5b8rtAj38YJ-",
        "colab_type": "code",
        "colab": {}
      },
      "source": [
        "import numpy as np\n",
        "import matplotlib.pyplot as plt\n",
        "%matplotlib inline"
      ],
      "execution_count": 11,
      "outputs": []
    },
    {
      "cell_type": "code",
      "metadata": {
        "id": "unvMpRM8-i_x",
        "colab_type": "code",
        "colab": {
          "base_uri": "https://localhost:8080/",
          "height": 34
        },
        "outputId": "257fd0c0-e6a7-4c45-d74e-9863b8ed7503"
      },
      "source": [
        "images[0].shape"
      ],
      "execution_count": 13,
      "outputs": [
        {
          "output_type": "execute_result",
          "data": {
            "text/plain": [
              "torch.Size([1, 28, 28])"
            ]
          },
          "metadata": {
            "tags": []
          },
          "execution_count": 13
        }
      ]
    },
    {
      "cell_type": "code",
      "metadata": {
        "id": "hOuUoMn58YKA",
        "colab_type": "code",
        "colab": {
          "base_uri": "https://localhost:8080/",
          "height": 34
        },
        "outputId": "37ed9b17-4d5f-4329-c319-ffa183d06631"
      },
      "source": [
        "torch_image=torch.squeeze(images[0])\n",
        "torch_image.shape"
      ],
      "execution_count": 15,
      "outputs": [
        {
          "output_type": "execute_result",
          "data": {
            "text/plain": [
              "torch.Size([28, 28])"
            ]
          },
          "metadata": {
            "tags": []
          },
          "execution_count": 15
        }
      ]
    },
    {
      "cell_type": "code",
      "metadata": {
        "id": "T5Mhn0S88YKB",
        "colab_type": "code",
        "colab": {
          "base_uri": "https://localhost:8080/",
          "height": 34
        },
        "outputId": "51e24a94-8d5f-447f-bf14-25b7df65c4ac"
      },
      "source": [
        "image=torch_image.numpy()\n",
        "image.shape"
      ],
      "execution_count": 16,
      "outputs": [
        {
          "output_type": "execute_result",
          "data": {
            "text/plain": [
              "(28, 28)"
            ]
          },
          "metadata": {
            "tags": []
          },
          "execution_count": 16
        }
      ]
    },
    {
      "cell_type": "code",
      "metadata": {
        "id": "oUAQ9XlE8YKC",
        "colab_type": "code",
        "colab": {}
      },
      "source": [
        "label = labels[0].numpy()"
      ],
      "execution_count": 25,
      "outputs": []
    },
    {
      "cell_type": "code",
      "metadata": {
        "id": "WTTlb0l38YKD",
        "colab_type": "code",
        "colab": {
          "base_uri": "https://localhost:8080/",
          "height": 34
        },
        "outputId": "fecff173-b24d-48a6-d03b-3182bddf5a04"
      },
      "source": [
        "label.shape"
      ],
      "execution_count": 26,
      "outputs": [
        {
          "output_type": "execute_result",
          "data": {
            "text/plain": [
              "()"
            ]
          },
          "metadata": {
            "tags": []
          },
          "execution_count": 26
        }
      ]
    },
    {
      "cell_type": "code",
      "metadata": {
        "id": "zuIjkWjq8YKF",
        "colab_type": "code",
        "colab": {
          "base_uri": "https://localhost:8080/",
          "height": 34
        },
        "outputId": "a0825608-cc9c-4214-fbda-824999bf7a34"
      },
      "source": [
        "label"
      ],
      "execution_count": 27,
      "outputs": [
        {
          "output_type": "execute_result",
          "data": {
            "text/plain": [
              "array(1)"
            ]
          },
          "metadata": {
            "tags": []
          },
          "execution_count": 27
        }
      ]
    },
    {
      "cell_type": "code",
      "metadata": {
        "id": "ZzvujvM48YKG",
        "colab_type": "code",
        "colab": {
          "base_uri": "https://localhost:8080/",
          "height": 281
        },
        "outputId": "a025cd0c-8e44-47e1-e0f1-1e78e9e9a41f"
      },
      "source": [
        "plt.title(label)\n",
        "plt.imshow(image, 'gray')\n",
        "plt.show()"
      ],
      "execution_count": 28,
      "outputs": [
        {
          "output_type": "display_data",
          "data": {
            "image/png": "[encoded data removed]",
            "text/plain": [
              "<Figure size 432x288 with 1 Axes>"
            ]
          },
          "metadata": {
            "tags": [],
            "needs_background": "light"
          }
        }
      ]
    },
    {
      "cell_type": "code",
      "metadata": {
        "id": "DYqKb2Sr8YKH",
        "colab_type": "code",
        "colab": {}
      },
      "source": [
        ""
      ],
      "execution_count": null,
      "outputs": []
    },
    {
      "cell_type": "code",
      "metadata": {
        "id": "ENvFPNrW8YKI",
        "colab_type": "code",
        "colab": {}
      },
      "source": [
        ""
      ],
      "execution_count": null,
      "outputs": []
    }
  ]
}