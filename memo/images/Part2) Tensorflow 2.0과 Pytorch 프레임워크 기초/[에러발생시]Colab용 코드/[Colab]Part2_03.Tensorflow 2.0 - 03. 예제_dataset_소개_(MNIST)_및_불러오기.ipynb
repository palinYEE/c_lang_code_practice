{
  "nbformat": 4,
  "nbformat_minor": 0,
  "metadata": {
    "kernelspec": {
      "display_name": "Python 3",
      "language": "python",
      "name": "python3"
    },
    "language_info": {
      "codemirror_mode": {
        "name": "ipython",
        "version": 3
      },
      "file_extension": ".py",
      "mimetype": "text/x-python",
      "name": "python",
      "nbconvert_exporter": "python",
      "pygments_lexer": "ipython3",
      "version": "3.7.3"
    },
    "colab": {
      "name": "[검수완료]2-03. 예제 dataset 소개 (MNIST) 및 불러오기 [before].ipynb",
      "provenance": []
    }
  },
  "cells": [
    {
      "cell_type": "markdown",
      "metadata": {
        "id": "Dq5RyJe3u9cz",
        "colab_type": "text"
      },
      "source": [
        "# Data Preprocess (MNIST)"
      ]
    },
    {
      "cell_type": "code",
      "metadata": {
        "id": "BL76iPsdVwzR",
        "colab_type": "code",
        "colab": {
          "base_uri": "https://localhost:8080/",
          "height": 122
        },
        "outputId": "5c7292b7-5ee7-400f-f0d2-e7254d887231"
      },
      "source": [
        "from google.colab import drive\n",
        "drive.mount('/content/drive')"
      ],
      "execution_count": 1,
      "outputs": [
        {
          "output_type": "stream",
          "text": [
            "Go to this URL in a browser: https://accounts.google.com/o/oauth2/auth?client_id=947318989803-6bn6qk8qdgf4n4g3pfee6491hc0brc4i.apps.googleusercontent.com&redirect_uri=urn%3aietf%3awg%3aoauth%3a2.0%3aoob&response_type=code&scope=email%20https%3a%2f%2fwww.googleapis.com%2fauth%2fdocs.test%20https%3a%2f%2fwww.googleapis.com%2fauth%2fdrive%20https%3a%2f%2fwww.googleapis.com%2fauth%2fdrive.photos.readonly%20https%3a%2f%2fwww.googleapis.com%2fauth%2fpeopleapi.readonly\n",
            "\n",
            "Enter your authorization code:\n",
            "··········\n",
            "Mounted at /content/drive\n"
          ],
          "name": "stdout"
        }
      ]
    },
    {
      "cell_type": "code",
      "metadata": {
        "id": "pWneG8rBu9c0",
        "colab_type": "code",
        "colab": {}
      },
      "source": [
        "import numpy as np\n",
        "import matplotlib.pyplot as plt\n",
        "\n",
        "import tensorflow as tf\n",
        "\n",
        "%matplotlib inline"
      ],
      "execution_count": 1,
      "outputs": []
    },
    {
      "cell_type": "markdown",
      "metadata": {
        "id": "9c7cyzAPu9c3",
        "colab_type": "text"
      },
      "source": [
        "# 데이터 불러오기\n",
        "TensorFlow에서 제공해주는 데이터셋(MNIST) 예제 불러오기 "
      ]
    },
    {
      "cell_type": "code",
      "metadata": {
        "id": "5IYQ9UY7u9c4",
        "colab_type": "code",
        "colab": {}
      },
      "source": [
        "from tensorflow.keras import datasets"
      ],
      "execution_count": 2,
      "outputs": []
    },
    {
      "cell_type": "markdown",
      "metadata": {
        "id": "vDd_h2NFu9c7",
        "colab_type": "text"
      },
      "source": [
        "- 데이터 shape 확인하기"
      ]
    },
    {
      "cell_type": "code",
      "metadata": {
        "id": "ZfHLWVHdu9c7",
        "colab_type": "code",
        "colab": {}
      },
      "source": [
        "mnist = datasets.mnist"
      ],
      "execution_count": 3,
      "outputs": []
    },
    {
      "cell_type": "code",
      "metadata": {
        "id": "h6LzbpGqXQPK",
        "colab_type": "code",
        "colab": {}
      },
      "source": [
        ""
      ],
      "execution_count": null,
      "outputs": []
    },
    {
      "cell_type": "code",
      "metadata": {
        "id": "es91-FKSu9c9",
        "colab_type": "code",
        "colab": {
          "base_uri": "https://localhost:8080/",
          "height": 51
        },
        "outputId": "fc12f599-8cef-412d-92fa-45fa7f2b8aa7"
      },
      "source": [
        "(train_x, train_y), (test_x, test_y) = mnist.load_data()"
      ],
      "execution_count": 4,
      "outputs": [
        {
          "output_type": "stream",
          "text": [
            "Downloading data from https://storage.googleapis.com/tensorflow/tf-keras-datasets/mnist.npz\n",
            "11493376/11490434 [==============================] - 0s 0us/step\n"
          ],
          "name": "stdout"
        }
      ]
    },
    {
      "cell_type": "code",
      "metadata": {
        "id": "9vGcj_qEu9dA",
        "colab_type": "code",
        "colab": {
          "base_uri": "https://localhost:8080/",
          "height": 34
        },
        "outputId": "9365d5de-3cb5-4e92-a3c8-a9ef0ae581a7"
      },
      "source": [
        "train_x.shape"
      ],
      "execution_count": 5,
      "outputs": [
        {
          "output_type": "execute_result",
          "data": {
            "text/plain": [
              "(60000, 28, 28)"
            ]
          },
          "metadata": {
            "tags": []
          },
          "execution_count": 5
        }
      ]
    },
    {
      "cell_type": "code",
      "metadata": {
        "id": "DFq_vsAOLs4y",
        "colab_type": "code",
        "colab": {
          "base_uri": "https://localhost:8080/",
          "height": 34
        },
        "outputId": "6d3b4fe4-3acf-44e3-9026-bf258cd2b4d8"
      },
      "source": [
        "test_x.shape"
      ],
      "execution_count": 6,
      "outputs": [
        {
          "output_type": "execute_result",
          "data": {
            "text/plain": [
              "(10000, 28, 28)"
            ]
          },
          "metadata": {
            "tags": []
          },
          "execution_count": 6
        }
      ]
    },
    {
      "cell_type": "markdown",
      "metadata": {
        "id": "_73kBRYDu9dC",
        "colab_type": "text"
      },
      "source": [
        "# Image Dataset 들여다보기\n",
        "\n",
        "불러온 데이터셋에서 이미지 데이터 하나만 뽑아서 시각화까지 확인"
      ]
    },
    {
      "cell_type": "markdown",
      "metadata": {
        "id": "04JYhdoLu9dC",
        "colab_type": "text"
      },
      "source": [
        "- 데이터 하나만 뽑기"
      ]
    },
    {
      "cell_type": "code",
      "metadata": {
        "id": "6ZklMlzOu9dD",
        "colab_type": "code",
        "colab": {
          "base_uri": "https://localhost:8080/",
          "height": 34
        },
        "outputId": "09aef0e5-94ce-41f1-8c47-867a4c3d9654"
      },
      "source": [
        "image = train_x[0]\n",
        "image.shape"
      ],
      "execution_count": 7,
      "outputs": [
        {
          "output_type": "execute_result",
          "data": {
            "text/plain": [
              "(28, 28)"
            ]
          },
          "metadata": {
            "tags": []
          },
          "execution_count": 7
        }
      ]
    },
    {
      "cell_type": "code",
      "metadata": {
        "id": "IrAdYy_Au9dG",
        "colab_type": "code",
        "colab": {}
      },
      "source": [
        ""
      ],
      "execution_count": 42,
      "outputs": []
    },
    {
      "cell_type": "markdown",
      "metadata": {
        "id": "fc_sbvRGu9dI",
        "colab_type": "text"
      },
      "source": [
        "- 시각화해서 확인"
      ]
    },
    {
      "cell_type": "code",
      "metadata": {
        "id": "gnZomUCYu9dI",
        "colab_type": "code",
        "colab": {
          "base_uri": "https://localhost:8080/",
          "height": 265
        },
        "outputId": "4281f07b-0d91-40ce-88d4-7559a0a43b2d"
      },
      "source": [
        "plt.imshow(image, 'gray')\n",
        "plt.show()"
      ],
      "execution_count": 8,
      "outputs": [
        {
          "output_type": "display_data",
          "data": {
            "image/png": "[encoded data removed]",
            "text/plain": [
              "<Figure size 432x288 with 1 Axes>"
            ]
          },
          "metadata": {
            "tags": [],
            "needs_background": "light"
          }
        }
      ]
    },
    {
      "cell_type": "markdown",
      "metadata": {
        "id": "OGeUdExdu9dK",
        "colab_type": "text"
      },
      "source": [
        "# Channel 관련\n",
        "\n",
        "[Batch Size, Height, Width, Channel]  \n",
        "GrayScale이면 1, RGB이면 3으로 만들어줘야함"
      ]
    },
    {
      "cell_type": "markdown",
      "metadata": {
        "id": "iv5mcEQnu9dL",
        "colab_type": "text"
      },
      "source": [
        "- 다시 shape로 데이터 확인"
      ]
    },
    {
      "cell_type": "code",
      "metadata": {
        "id": "eOlHexRku9dL",
        "colab_type": "code",
        "colab": {
          "base_uri": "https://localhost:8080/",
          "height": 34
        },
        "outputId": "684b75ac-c85f-443e-fcdf-9a689858586f"
      },
      "source": [
        "train_x.shape"
      ],
      "execution_count": 9,
      "outputs": [
        {
          "output_type": "execute_result",
          "data": {
            "text/plain": [
              "(60000, 28, 28)"
            ]
          },
          "metadata": {
            "tags": []
          },
          "execution_count": 9
        }
      ]
    },
    {
      "cell_type": "markdown",
      "metadata": {
        "id": "SOy1e0pbu9dN",
        "colab_type": "text"
      },
      "source": [
        "- 데이터 차원수 늘리기 (numpy)"
      ]
    },
    {
      "cell_type": "code",
      "metadata": {
        "id": "l5Rp151pu9dO",
        "colab_type": "code",
        "colab": {
          "base_uri": "https://localhost:8080/",
          "height": 34
        },
        "outputId": "399b260d-b20f-4c7d-a499-24dbad654f75"
      },
      "source": [
        "expanded_data = np.expand_dims(train_x,-1)\n",
        "expanded_data.shape"
      ],
      "execution_count": 10,
      "outputs": [
        {
          "output_type": "execute_result",
          "data": {
            "text/plain": [
              "(60000, 28, 28, 1)"
            ]
          },
          "metadata": {
            "tags": []
          },
          "execution_count": 10
        }
      ]
    },
    {
      "cell_type": "markdown",
      "metadata": {
        "id": "IOH2fjNhu9dQ",
        "colab_type": "text"
      },
      "source": [
        "- TensorFlow 패키지 불러와 데이터 차원수 늘리기 (tensorflow)"
      ]
    },
    {
      "cell_type": "code",
      "metadata": {
        "id": "EmbXGPNgu9dR",
        "colab_type": "code",
        "colab": {
          "base_uri": "https://localhost:8080/",
          "height": 34
        },
        "outputId": "6315fde2-b3b7-4ef2-e5ef-ab3f766bf15f"
      },
      "source": [
        "new_train_x = tf.expand_dims(train_x, -1)\n",
        "new_train_x.shape"
      ],
      "execution_count": 11,
      "outputs": [
        {
          "output_type": "execute_result",
          "data": {
            "text/plain": [
              "TensorShape([60000, 28, 28, 1])"
            ]
          },
          "metadata": {
            "tags": []
          },
          "execution_count": 11
        }
      ]
    },
    {
      "cell_type": "markdown",
      "metadata": {
        "id": "E0NJHBE3u9dS",
        "colab_type": "text"
      },
      "source": [
        "- TensorFlow 공홈에서 가져온 방법 tf.newaxis"
      ]
    },
    {
      "cell_type": "code",
      "metadata": {
        "id": "rjCV854_u9dT",
        "colab_type": "code",
        "colab": {
          "base_uri": "https://localhost:8080/",
          "height": 34
        },
        "outputId": "67f518d3-5c9e-483f-e861-f4d08330a81a"
      },
      "source": [
        "train_x[..., tf.newaxis].shape"
      ],
      "execution_count": 12,
      "outputs": [
        {
          "output_type": "execute_result",
          "data": {
            "text/plain": [
              "(60000, 28, 28, 1)"
            ]
          },
          "metadata": {
            "tags": []
          },
          "execution_count": 12
        }
      ]
    },
    {
      "cell_type": "code",
      "metadata": {
        "id": "Ikf-_wcnu9dV",
        "colab_type": "code",
        "colab": {
          "base_uri": "https://localhost:8080/",
          "height": 34
        },
        "outputId": "2efb873a-214a-4aae-f87e-e094b0389172"
      },
      "source": [
        "reshape = train_x.reshape([60000,28,28,1])\n",
        "reshape.shape"
      ],
      "execution_count": 14,
      "outputs": [
        {
          "output_type": "execute_result",
          "data": {
            "text/plain": [
              "(60000, 28, 28, 1)"
            ]
          },
          "metadata": {
            "tags": []
          },
          "execution_count": 14
        }
      ]
    },
    {
      "cell_type": "markdown",
      "metadata": {
        "id": "jmS1mrTlu9dZ",
        "colab_type": "text"
      },
      "source": [
        "*주의 사항  \n",
        "matplotlib로 이미지 시각화 할 때는 gray scale의 이미지는 3번쨰 dimension이 없으므로,  \n",
        "2개의 dimension으로 gray scale로 차원 조절해서 넣어줘야함"
      ]
    },
    {
      "cell_type": "markdown",
      "metadata": {
        "id": "CCeQ2ZbUu9dZ",
        "colab_type": "text"
      },
      "source": [
        "- new_train_x[0] -> new_train_x[0, :, :, 0]"
      ]
    },
    {
      "cell_type": "code",
      "metadata": {
        "id": "IeZh90Nou9dZ",
        "colab_type": "code",
        "colab": {
          "base_uri": "https://localhost:8080/",
          "height": 34
        },
        "outputId": "010a711a-8cf4-4a96-de1b-6b81da24d7a4"
      },
      "source": [
        "new_train_x = train_x[..., tf.newaxis]\n",
        "new_train_x.shape"
      ],
      "execution_count": 15,
      "outputs": [
        {
          "output_type": "execute_result",
          "data": {
            "text/plain": [
              "(60000, 28, 28, 1)"
            ]
          },
          "metadata": {
            "tags": []
          },
          "execution_count": 15
        }
      ]
    },
    {
      "cell_type": "code",
      "metadata": {
        "id": "nQyNlJbpZXkm",
        "colab_type": "code",
        "colab": {
          "base_uri": "https://localhost:8080/",
          "height": 265
        },
        "outputId": "3c84877a-3e84-48cc-b567-869fe9eedf2e"
      },
      "source": [
        "disp = new_train_x[0, :, :, 0]\n",
        "plt.imshow(disp, 'gray')\n",
        "plt.show()"
      ],
      "execution_count": 17,
      "outputs": [
        {
          "output_type": "display_data",
          "data": {
            "image/png": "[encoded data removed]",
            "text/plain": [
              "<Figure size 432x288 with 1 Axes>"
            ]
          },
          "metadata": {
            "tags": [],
            "needs_background": "light"
          }
        }
      ]
    },
    {
      "cell_type": "code",
      "metadata": {
        "id": "3xECuC-BZadL",
        "colab_type": "code",
        "colab": {
          "base_uri": "https://localhost:8080/",
          "height": 34
        },
        "outputId": "d8acbb01-2d3e-4802-d18b-2b9951800513"
      },
      "source": [
        "disp = np.squeeze(new_train_x[0])\n",
        "disp.shape"
      ],
      "execution_count": 18,
      "outputs": [
        {
          "output_type": "execute_result",
          "data": {
            "text/plain": [
              "(28, 28)"
            ]
          },
          "metadata": {
            "tags": []
          },
          "execution_count": 18
        }
      ]
    },
    {
      "cell_type": "code",
      "metadata": {
        "id": "RWBm4pkau9dc",
        "colab_type": "code",
        "colab": {
          "base_uri": "https://localhost:8080/",
          "height": 265
        },
        "outputId": "2ce70f5a-e028-4853-e14f-59c9765017f6"
      },
      "source": [
        "plt.imshow(disp, 'gray')\n",
        "plt.show()"
      ],
      "execution_count": 19,
      "outputs": [
        {
          "output_type": "display_data",
          "data": {
            "image/png": "[encoded data removed]",
            "text/plain": [
              "<Figure size 432x288 with 1 Axes>"
            ]
          },
          "metadata": {
            "tags": [],
            "needs_background": "light"
          }
        }
      ]
    },
    {
      "cell_type": "markdown",
      "metadata": {
        "id": "gBvinwolu9di",
        "colab_type": "text"
      },
      "source": [
        "# Label Dataset 들여다보기  \n",
        "\n",
        "Label 하나를 열어서 Image와 비교하여 제대로 들어갔는지. 어떤 식으로 저장 되어있는지 확인"
      ]
    },
    {
      "cell_type": "markdown",
      "metadata": {
        "id": "RlpmKJliu9dj",
        "colab_type": "text"
      },
      "source": [
        "- label 하나만 뽑아보기"
      ]
    },
    {
      "cell_type": "code",
      "metadata": {
        "id": "ld7-DWAmu9dj",
        "colab_type": "code",
        "colab": {
          "base_uri": "https://localhost:8080/",
          "height": 34
        },
        "outputId": "608f0ae7-1e34-4333-9f58-4222a7d80236"
      },
      "source": [
        "train_y.shape"
      ],
      "execution_count": 20,
      "outputs": [
        {
          "output_type": "execute_result",
          "data": {
            "text/plain": [
              "(60000,)"
            ]
          },
          "metadata": {
            "tags": []
          },
          "execution_count": 20
        }
      ]
    },
    {
      "cell_type": "code",
      "metadata": {
        "id": "Rg4WTcrxdJml",
        "colab_type": "code",
        "colab": {
          "base_uri": "https://localhost:8080/",
          "height": 34
        },
        "outputId": "e2b59b59-2c8d-4c4b-ff53-08d96c68b692"
      },
      "source": [
        "train_x[0].shape"
      ],
      "execution_count": 24,
      "outputs": [
        {
          "output_type": "execute_result",
          "data": {
            "text/plain": [
              "(28, 28)"
            ]
          },
          "metadata": {
            "tags": []
          },
          "execution_count": 24
        }
      ]
    },
    {
      "cell_type": "code",
      "metadata": {
        "id": "578n32cvdHZv",
        "colab_type": "code",
        "colab": {
          "base_uri": "https://localhost:8080/",
          "height": 265
        },
        "outputId": "80635d34-5eaa-408b-c0ad-e0f44e6e6968"
      },
      "source": [
        "plt.imshow(train_x[0])\n",
        "plt.show()"
      ],
      "execution_count": 25,
      "outputs": [
        {
          "output_type": "display_data",
          "data": {
            "image/png": "[encoded data removed]",
            "text/plain": [
              "<Figure size 432x288 with 1 Axes>"
            ]
          },
          "metadata": {
            "tags": [],
            "needs_background": "light"
          }
        }
      ]
    },
    {
      "cell_type": "code",
      "metadata": {
        "id": "CiM0voe3adDb",
        "colab_type": "code",
        "colab": {
          "base_uri": "https://localhost:8080/",
          "height": 34
        },
        "outputId": "68e93acd-680d-4a72-ca61-f0251ef7f757"
      },
      "source": [
        "train_y[0]"
      ],
      "execution_count": 21,
      "outputs": [
        {
          "output_type": "execute_result",
          "data": {
            "text/plain": [
              "5"
            ]
          },
          "metadata": {
            "tags": []
          },
          "execution_count": 21
        }
      ]
    },
    {
      "cell_type": "markdown",
      "metadata": {
        "id": "bZzfFrQeu9dn",
        "colab_type": "text"
      },
      "source": [
        "- Label 시각화 "
      ]
    },
    {
      "cell_type": "code",
      "metadata": {
        "id": "I1g74bvWu9dn",
        "colab_type": "code",
        "colab": {
          "base_uri": "https://localhost:8080/",
          "height": 281
        },
        "outputId": "131acae5-725a-495f-8e4a-e29518e3de2f"
      },
      "source": [
        "plt.title(train_y[0])\n",
        "plt.imshow(train_x[0],'gray')\n",
        "plt.show()"
      ],
      "execution_count": 26,
      "outputs": [
        {
          "output_type": "display_data",
          "data": {
            "image/png": "[encoded data removed]",
            "text/plain": [
              "<Figure size 432x288 with 1 Axes>"
            ]
          },
          "metadata": {
            "tags": [],
            "needs_background": "light"
          }
        }
      ]
    },
    {
      "cell_type": "markdown",
      "metadata": {
        "id": "C1JTTN68u9dp",
        "colab_type": "text"
      },
      "source": [
        "# OneHot Encoding\n",
        "\n"
      ]
    },
    {
      "cell_type": "markdown",
      "metadata": {
        "id": "95Df2e3Zu9dq",
        "colab_type": "text"
      },
      "source": [
        "컴퓨터가 이해할 수 있는 형태로 변환해서 Label을 주도록 함"
      ]
    },
    {
      "cell_type": "markdown",
      "metadata": {
        "id": "uemKGHZku9dq",
        "colab_type": "text"
      },
      "source": [
        "![image.png](attachment:image.png)"
      ]
    },
    {
      "cell_type": "code",
      "metadata": {
        "id": "U039D4yQu9dr",
        "colab_type": "code",
        "colab": {},
        "outputId": "95ecef1e-d8f8-4bc1-e852-37fffb932d85"
      },
      "source": [
        "# 5\n",
        "[0,0,0,0,0,1,0,0,0,0]\n",
        "\n",
        "# 9\n",
        "[0,0,0,0,0,0,0,0,0,1]"
      ],
      "execution_count": null,
      "outputs": [
        {
          "output_type": "execute_result",
          "data": {
            "text/plain": [
              "[0, 0, 0, 0, 0, 0, 0, 0, 0, 1]"
            ]
          },
          "metadata": {
            "tags": []
          },
          "execution_count": 3
        }
      ]
    },
    {
      "cell_type": "markdown",
      "metadata": {
        "id": "n2aJXO6tu9dt",
        "colab_type": "text"
      },
      "source": [
        "- tensorflow.keras.utils.to_categorical"
      ]
    },
    {
      "cell_type": "code",
      "metadata": {
        "id": "NbYtmWiBu9du",
        "colab_type": "code",
        "colab": {}
      },
      "source": [
        "from tensorflow.keras.utils import to_categorical"
      ],
      "execution_count": 27,
      "outputs": []
    },
    {
      "cell_type": "markdown",
      "metadata": {
        "id": "iLZJxNDEu9dv",
        "colab_type": "text"
      },
      "source": [
        "- 1을 예시로 one hot encoding"
      ]
    },
    {
      "cell_type": "code",
      "metadata": {
        "id": "JqLex1j6u9dw",
        "colab_type": "code",
        "colab": {
          "base_uri": "https://localhost:8080/",
          "height": 34
        },
        "outputId": "62b742c2-aa88-4c03-c405-5e732beeb638"
      },
      "source": [
        "to_categorical(3,5)"
      ],
      "execution_count": 30,
      "outputs": [
        {
          "output_type": "execute_result",
          "data": {
            "text/plain": [
              "array([0., 0., 0., 1., 0.], dtype=float32)"
            ]
          },
          "metadata": {
            "tags": []
          },
          "execution_count": 30
        }
      ]
    },
    {
      "cell_type": "markdown",
      "metadata": {
        "id": "ewLj3Dosu9dx",
        "colab_type": "text"
      },
      "source": [
        "- label 확인해서 to_categorical 사용"
      ]
    },
    {
      "cell_type": "code",
      "metadata": {
        "id": "Hi9WCfNdu9dy",
        "colab_type": "code",
        "colab": {
          "base_uri": "https://localhost:8080/",
          "height": 34
        },
        "outputId": "26ed46f6-3601-499c-a960-e5a8bc9652c8"
      },
      "source": [
        "label = train_y[0]\n",
        "label"
      ],
      "execution_count": 31,
      "outputs": [
        {
          "output_type": "execute_result",
          "data": {
            "text/plain": [
              "5"
            ]
          },
          "metadata": {
            "tags": []
          },
          "execution_count": 31
        }
      ]
    },
    {
      "cell_type": "code",
      "metadata": {
        "id": "_IO1AAtIu9d0",
        "colab_type": "code",
        "colab": {
          "base_uri": "https://localhost:8080/",
          "height": 34
        },
        "outputId": "d51d7db2-7890-48e5-efb5-dda71432a244"
      },
      "source": [
        "label_onehot = to_categorical(label, num_classes=10)\n",
        "label_onehot"
      ],
      "execution_count": 32,
      "outputs": [
        {
          "output_type": "execute_result",
          "data": {
            "text/plain": [
              "array([0., 0., 0., 0., 0., 1., 0., 0., 0., 0.], dtype=float32)"
            ]
          },
          "metadata": {
            "tags": []
          },
          "execution_count": 32
        }
      ]
    },
    {
      "cell_type": "markdown",
      "metadata": {
        "id": "p1gDv_k7u9d2",
        "colab_type": "text"
      },
      "source": [
        "- onehot encoding으로 바꾼 것과 이미지 확인"
      ]
    },
    {
      "cell_type": "code",
      "metadata": {
        "id": "KeWzfVg2u9d2",
        "colab_type": "code",
        "colab": {
          "base_uri": "https://localhost:8080/",
          "height": 335
        },
        "outputId": "7b0622a8-8d31-45cf-edcd-0c81f825a94e"
      },
      "source": [
        "plt.title(label_onehot)\n",
        "plt.imshow(train_x[0], 'gray')\n",
        "plt.show()"
      ],
      "execution_count": 33,
      "outputs": [
        {
          "output_type": "stream",
          "text": [
            "/usr/local/lib/python3.6/dist-packages/matplotlib/text.py:1165: FutureWarning: elementwise comparison failed; returning scalar instead, but in the future will perform elementwise comparison\n",
            "  if s != self._text:\n"
          ],
          "name": "stderr"
        },
        {
          "output_type": "display_data",
          "data": {
            "image/png": "[encoded data removed]",
            "text/plain": [
              "<Figure size 432x288 with 1 Axes>"
            ]
          },
          "metadata": {
            "tags": [],
            "needs_background": "light"
          }
        }
      ]
    },
    {
      "cell_type": "code",
      "metadata": {
        "id": "v3b0E4QrekMn",
        "colab_type": "code",
        "colab": {}
      },
      "source": [
        ""
      ],
      "execution_count": null,
      "outputs": []
    }
  ]
}