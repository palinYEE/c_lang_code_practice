{
  "nbformat": 4,
  "nbformat_minor": 0,
  "metadata": {
    "kernelspec": {
      "display_name": "Python 3",
      "language": "python",
      "name": "python3"
    },
    "language_info": {
      "codemirror_mode": {
        "name": "ipython",
        "version": 3
      },
      "file_extension": ".py",
      "mimetype": "text/x-python",
      "name": "python",
      "nbconvert_exporter": "python",
      "pygments_lexer": "ipython3",
      "version": "3.7.3"
    },
    "colab": {
      "name": "[검수완료]2-09. Evaluating _ Predicting [before].ipynb",
      "provenance": []
    }
  },
  "cells": [
    {
      "cell_type": "markdown",
      "metadata": {
        "id": "6_eHOko4pCo1",
        "colab_type": "text"
      },
      "source": [
        "# TensorFlow: Evaluating & Prediction"
      ]
    },
    {
      "cell_type": "code",
      "metadata": {
        "id": "CzLbhQ6GpCo2",
        "colab_type": "code",
        "colab": {}
      },
      "source": [
        "import tensorflow as tf\n",
        "from tensorflow.keras import layers\n",
        "\n",
        "from tensorflow.keras import datasets "
      ],
      "execution_count": 1,
      "outputs": []
    },
    {
      "cell_type": "markdown",
      "metadata": {
        "id": "gmPPb6sRpCo9",
        "colab_type": "text"
      },
      "source": [
        "# Build Model"
      ]
    },
    {
      "cell_type": "code",
      "metadata": {
        "id": "osCYYEmopCo-",
        "colab_type": "code",
        "colab": {}
      },
      "source": [
        "input_shape = (28, 28, 1)\n",
        "num_classes = 10\n",
        "\n",
        "learning_rate = 0.001"
      ],
      "execution_count": 2,
      "outputs": []
    },
    {
      "cell_type": "code",
      "metadata": {
        "id": "wC_yGBiqpCpB",
        "colab_type": "code",
        "colab": {}
      },
      "source": [
        "inputs = layers.Input(input_shape)\n",
        "net = layers.Conv2D(32, (3, 3), padding='SAME')(inputs)\n",
        "net = layers.Activation('relu')(net)\n",
        "net = layers.Conv2D(32, (3, 3), padding='SAME')(net)\n",
        "net = layers.Activation('relu')(net)\n",
        "net = layers.MaxPooling2D(pool_size=(2, 2))(net)\n",
        "net = layers.Dropout(0.5)(net)\n",
        "\n",
        "net = layers.Conv2D(64, (3, 3), padding='SAME')(net)\n",
        "net = layers.Activation('relu')(net)\n",
        "net = layers.Conv2D(64, (3, 3), padding='SAME')(net)\n",
        "net = layers.Activation('relu')(net)\n",
        "net = layers.MaxPooling2D(pool_size=(2, 2))(net)\n",
        "net = layers.Dropout(0.5)(net)\n",
        "\n",
        "net = layers.Flatten()(net)\n",
        "net = layers.Dense(512)(net)\n",
        "net = layers.Activation('relu')(net)\n",
        "net = layers.Dropout(0.5)(net)\n",
        "net = layers.Dense(num_classes)(net)\n",
        "net = layers.Activation('softmax')(net)\n",
        "\n",
        "model = tf.keras.Model(inputs=inputs, outputs=net, name='Basic_CNN')"
      ],
      "execution_count": 3,
      "outputs": []
    },
    {
      "cell_type": "code",
      "metadata": {
        "id": "YvxWO0JQpCpF",
        "colab_type": "code",
        "colab": {}
      },
      "source": [
        "# Model is the full model w/o custom layers\n",
        "model.compile(optimizer=tf.keras.optimizers.Adam(learning_rate),\n",
        "              loss='sparse_categorical_crossentropy',\n",
        "              metrics=['accuracy'])"
      ],
      "execution_count": 5,
      "outputs": []
    },
    {
      "cell_type": "markdown",
      "metadata": {
        "id": "dImZbKUPpCpI",
        "colab_type": "text"
      },
      "source": [
        "# Preprocess"
      ]
    },
    {
      "cell_type": "markdown",
      "metadata": {
        "id": "doP5dJ2jpCpI",
        "colab_type": "text"
      },
      "source": [
        "데이터셋 불러오기 "
      ]
    },
    {
      "cell_type": "code",
      "metadata": {
        "id": "SeyF38HCpCpJ",
        "colab_type": "code",
        "colab": {
          "base_uri": "https://localhost:8080/",
          "height": 51
        },
        "outputId": "72060a9a-14d5-4c24-da3e-810ee7bd9d12"
      },
      "source": [
        "(train_x, train_y), (test_x, test_y) = datasets.mnist.load_data()"
      ],
      "execution_count": 6,
      "outputs": [
        {
          "output_type": "stream",
          "text": [
            "Downloading data from https://storage.googleapis.com/tensorflow/tf-keras-datasets/mnist.npz\n",
            "11493376/11490434 [==============================] - 0s 0us/step\n"
          ],
          "name": "stdout"
        }
      ]
    },
    {
      "cell_type": "code",
      "metadata": {
        "id": "Pz_i0U_spCpK",
        "colab_type": "code",
        "colab": {}
      },
      "source": [
        "train_x = train_x[..., tf.newaxis]\n",
        "test_x = test_x[..., tf.newaxis]\n",
        "\n",
        "train_x = train_x / 255.\n",
        "test_x = test_x / 255."
      ],
      "execution_count": 7,
      "outputs": []
    },
    {
      "cell_type": "markdown",
      "metadata": {
        "id": "VAZlyE9rpCpM",
        "colab_type": "text"
      },
      "source": [
        "# Training"
      ]
    },
    {
      "cell_type": "code",
      "metadata": {
        "id": "eNi4mwx1pCpN",
        "colab_type": "code",
        "colab": {}
      },
      "source": [
        "num_epochs = 1\n",
        "batch_size = 64"
      ],
      "execution_count": 8,
      "outputs": []
    },
    {
      "cell_type": "code",
      "metadata": {
        "id": "f7CqGfQopCpO",
        "colab_type": "code",
        "colab": {
          "base_uri": "https://localhost:8080/",
          "height": 34
        },
        "outputId": "a8d78fe0-b97e-4407-b1f3-deb9eb0c2b32"
      },
      "source": [
        "hist = model.fit(train_x, train_y, \n",
        "                 batch_size=batch_size, \n",
        "                 shuffle=True)"
      ],
      "execution_count": 9,
      "outputs": [
        {
          "output_type": "stream",
          "text": [
            "938/938 [==============================] - 241s 257ms/step - loss: 0.2243 - accuracy: 0.9279\n"
          ],
          "name": "stdout"
        }
      ]
    },
    {
      "cell_type": "code",
      "metadata": {
        "id": "tMW95-pcpCpR",
        "colab_type": "code",
        "colab": {
          "base_uri": "https://localhost:8080/",
          "height": 34
        },
        "outputId": "389c2009-28d4-46ff-a711-fc6b1d8480dc"
      },
      "source": [
        "hist.history"
      ],
      "execution_count": 10,
      "outputs": [
        {
          "output_type": "execute_result",
          "data": {
            "text/plain": [
              "{'accuracy': [0.9279333353042603], 'loss': [0.22429877519607544]}"
            ]
          },
          "metadata": {
            "tags": []
          },
          "execution_count": 10
        }
      ]
    },
    {
      "cell_type": "markdown",
      "metadata": {
        "id": "JM8OO798pCpT",
        "colab_type": "text"
      },
      "source": [
        "# Evaluating  \n",
        "- 학습한 모델 확인"
      ]
    },
    {
      "cell_type": "code",
      "metadata": {
        "id": "HdlbVhF2pCpT",
        "colab_type": "code",
        "colab": {
          "base_uri": "https://localhost:8080/",
          "height": 51
        },
        "outputId": "451bfa86-f1de-4b2e-e283-b6c12edec78d"
      },
      "source": [
        "model.evaluate(test_x, test_y, batch_size=batch_size)"
      ],
      "execution_count": 12,
      "outputs": [
        {
          "output_type": "stream",
          "text": [
            "157/157 [==============================] - 10s 63ms/step - loss: 0.0378 - accuracy: 0.9877\n"
          ],
          "name": "stdout"
        },
        {
          "output_type": "execute_result",
          "data": {
            "text/plain": [
              "[0.03775588795542717, 0.9876999855041504]"
            ]
          },
          "metadata": {
            "tags": []
          },
          "execution_count": 12
        }
      ]
    },
    {
      "cell_type": "markdown",
      "metadata": {
        "id": "rYMbTlxHpCpU",
        "colab_type": "text"
      },
      "source": [
        "### 결과 확인"
      ]
    },
    {
      "cell_type": "markdown",
      "metadata": {
        "id": "R63sSq3lpCpV",
        "colab_type": "text"
      },
      "source": [
        "Input으로 들어갈 이미지 데이터 확인"
      ]
    },
    {
      "cell_type": "code",
      "metadata": {
        "id": "rGUy0ZKcpCpV",
        "colab_type": "code",
        "colab": {}
      },
      "source": [
        "import matplotlib.pyplot as plt\n",
        "\n",
        "import numpy as np\n",
        "\n",
        "%matplotlib inline"
      ],
      "execution_count": 13,
      "outputs": []
    },
    {
      "cell_type": "code",
      "metadata": {
        "id": "THaMGnuzpCpW",
        "colab_type": "code",
        "colab": {
          "base_uri": "https://localhost:8080/",
          "height": 34
        },
        "outputId": "3ea3c393-2293-498f-fa19-1110af385886"
      },
      "source": [
        "test_image = test_x[0, :, :, 0]\n",
        "test_image.shape"
      ],
      "execution_count": 14,
      "outputs": [
        {
          "output_type": "execute_result",
          "data": {
            "text/plain": [
              "(28, 28)"
            ]
          },
          "metadata": {
            "tags": []
          },
          "execution_count": 14
        }
      ]
    },
    {
      "cell_type": "code",
      "metadata": {
        "id": "YQhWMvtOpCpY",
        "colab_type": "code",
        "colab": {
          "base_uri": "https://localhost:8080/",
          "height": 281
        },
        "outputId": "df6b24bb-87a7-495b-ca87-4062735dba15"
      },
      "source": [
        "plt.title(test_y[0])\n",
        "plt.imshow(test_image, 'gray')\n",
        "plt.show()"
      ],
      "execution_count": 18,
      "outputs": [
        {
          "output_type": "display_data",
          "data": {
            "image/png": "[encoded data removed]",
            "text/plain": [
              "<Figure size 432x288 with 1 Axes>"
            ]
          },
          "metadata": {
            "tags": [],
            "needs_background": "light"
          }
        }
      ]
    },
    {
      "cell_type": "markdown",
      "metadata": {
        "id": "X-xqOK1EpCpZ",
        "colab_type": "text"
      },
      "source": [
        "- 모델에 Input Data로 확인 할 이미지 데이터 넣기"
      ]
    },
    {
      "cell_type": "code",
      "metadata": {
        "id": "ugftgUbvpCpZ",
        "colab_type": "code",
        "colab": {
          "base_uri": "https://localhost:8080/",
          "height": 34
        },
        "outputId": "28970ccf-7c74-4226-99de-e742388cefcc"
      },
      "source": [
        "test_image.shape"
      ],
      "execution_count": 19,
      "outputs": [
        {
          "output_type": "execute_result",
          "data": {
            "text/plain": [
              "(28, 28)"
            ]
          },
          "metadata": {
            "tags": []
          },
          "execution_count": 19
        }
      ]
    },
    {
      "cell_type": "code",
      "metadata": {
        "id": "UaUoa8ZVpCpa",
        "colab_type": "code",
        "colab": {}
      },
      "source": [
        "pred = model.predict(test_image.reshape(1,28,28,1))"
      ],
      "execution_count": 20,
      "outputs": []
    },
    {
      "cell_type": "code",
      "metadata": {
        "id": "tu5P7gpepCpb",
        "colab_type": "code",
        "colab": {
          "base_uri": "https://localhost:8080/",
          "height": 34
        },
        "outputId": "ddee2e20-3cd5-46ef-a560-903193b201d6"
      },
      "source": [
        "pred.shape"
      ],
      "execution_count": 21,
      "outputs": [
        {
          "output_type": "execute_result",
          "data": {
            "text/plain": [
              "(1, 10)"
            ]
          },
          "metadata": {
            "tags": []
          },
          "execution_count": 21
        }
      ]
    },
    {
      "cell_type": "code",
      "metadata": {
        "id": "JG5AayyIpCpd",
        "colab_type": "code",
        "colab": {
          "base_uri": "https://localhost:8080/",
          "height": 68
        },
        "outputId": "675605a9-8485-49f5-fa8b-a4eca51e8bfc"
      },
      "source": [
        "pred"
      ],
      "execution_count": 22,
      "outputs": [
        {
          "output_type": "execute_result",
          "data": {
            "text/plain": [
              "array([[9.93747085e-10, 2.53933607e-09, 3.49283802e-08, 1.15896405e-07,\n",
              "        6.24302610e-10, 1.40261594e-10, 1.74350484e-13, 9.99999523e-01,\n",
              "        1.27666111e-09, 4.10067912e-07]], dtype=float32)"
            ]
          },
          "metadata": {
            "tags": []
          },
          "execution_count": 22
        }
      ]
    },
    {
      "cell_type": "markdown",
      "metadata": {
        "id": "3RcyOuRCpCpf",
        "colab_type": "text"
      },
      "source": [
        "- np.argmax"
      ]
    },
    {
      "cell_type": "code",
      "metadata": {
        "id": "7PPHWN7VpCpf",
        "colab_type": "code",
        "colab": {
          "base_uri": "https://localhost:8080/",
          "height": 34
        },
        "outputId": "8f46e705-73df-4c99-f238-6dd24110226f"
      },
      "source": [
        "#정답 예측\n",
        "np.argmax(pred)"
      ],
      "execution_count": 23,
      "outputs": [
        {
          "output_type": "execute_result",
          "data": {
            "text/plain": [
              "7"
            ]
          },
          "metadata": {
            "tags": []
          },
          "execution_count": 23
        }
      ]
    },
    {
      "cell_type": "markdown",
      "metadata": {
        "id": "BNWmHikspCph",
        "colab_type": "text"
      },
      "source": [
        "## Test Batch"
      ]
    },
    {
      "cell_type": "markdown",
      "metadata": {
        "id": "MJk5PnPTpCph",
        "colab_type": "text"
      },
      "source": [
        "Batch로 Test Dataset 넣기"
      ]
    },
    {
      "cell_type": "code",
      "metadata": {
        "id": "1TMDwuwUpCph",
        "colab_type": "code",
        "colab": {
          "base_uri": "https://localhost:8080/",
          "height": 34
        },
        "outputId": "1eba7bbc-2d07-417b-fb1d-8d00b3e94f7d"
      },
      "source": [
        "test_batch = test_x[:32]\n",
        "test_batch.shape"
      ],
      "execution_count": 24,
      "outputs": [
        {
          "output_type": "execute_result",
          "data": {
            "text/plain": [
              "(32, 28, 28, 1)"
            ]
          },
          "metadata": {
            "tags": []
          },
          "execution_count": 24
        }
      ]
    },
    {
      "cell_type": "markdown",
      "metadata": {
        "id": "fq3sMM5fpCpi",
        "colab_type": "text"
      },
      "source": [
        "Batch Test Dataset 모델에 넣기"
      ]
    },
    {
      "cell_type": "code",
      "metadata": {
        "id": "T5sZg-xhpCpi",
        "colab_type": "code",
        "colab": {
          "base_uri": "https://localhost:8080/",
          "height": 34
        },
        "outputId": "9e9984ff-2bc6-4bf1-9ce6-f4934d36ed14"
      },
      "source": [
        "preds = model.predict(test_batch)\n",
        "preds.shape"
      ],
      "execution_count": 26,
      "outputs": [
        {
          "output_type": "execute_result",
          "data": {
            "text/plain": [
              "(32, 10)"
            ]
          },
          "metadata": {
            "tags": []
          },
          "execution_count": 26
        }
      ]
    },
    {
      "cell_type": "markdown",
      "metadata": {
        "id": "z4Kcy4vJpCpj",
        "colab_type": "text"
      },
      "source": [
        "- 결과 확인"
      ]
    },
    {
      "cell_type": "code",
      "metadata": {
        "id": "UiA9cwIvpCpj",
        "colab_type": "code",
        "colab": {
          "base_uri": "https://localhost:8080/",
          "height": 51
        },
        "outputId": "e9491a42-b4db-4d06-fdb5-7ee2042fa9e4"
      },
      "source": [
        "np.argmax(preds, -1)"
      ],
      "execution_count": 27,
      "outputs": [
        {
          "output_type": "execute_result",
          "data": {
            "text/plain": [
              "array([7, 2, 1, 0, 4, 1, 4, 9, 5, 9, 0, 6, 9, 0, 1, 5, 9, 7, 5, 4, 9, 6,\n",
              "       6, 5, 4, 0, 7, 4, 0, 1, 3, 1])"
            ]
          },
          "metadata": {
            "tags": []
          },
          "execution_count": 27
        }
      ]
    },
    {
      "cell_type": "code",
      "metadata": {
        "id": "WT0_0pCLpCpk",
        "colab_type": "code",
        "colab": {
          "base_uri": "https://localhost:8080/",
          "height": 34
        },
        "outputId": "f72bcc9a-4b49-4c32-c1e7-d27722195206"
      },
      "source": [
        "np.argmax(preds, -1).shape"
      ],
      "execution_count": 28,
      "outputs": [
        {
          "output_type": "execute_result",
          "data": {
            "text/plain": [
              "(32,)"
            ]
          },
          "metadata": {
            "tags": []
          },
          "execution_count": 28
        }
      ]
    },
    {
      "cell_type": "code",
      "metadata": {
        "id": "aBiEbcHGtBZi",
        "colab_type": "code",
        "colab": {
          "base_uri": "https://localhost:8080/",
          "height": 265
        },
        "outputId": "15060cb4-d02f-4a8b-e832-80d1e74da38e"
      },
      "source": [
        "plt.imshow(test_batch[0, :, :, 0], 'gray')\n",
        "plt.show()"
      ],
      "execution_count": 29,
      "outputs": [
        {
          "output_type": "display_data",
          "data": {
            "image/png": "[encoded data removed]",
            "text/plain": [
              "<Figure size 432x288 with 1 Axes>"
            ]
          },
          "metadata": {
            "tags": [],
            "needs_background": "light"
          }
        }
      ]
    },
    {
      "cell_type": "code",
      "metadata": {
        "id": "0Yu-ChB_tcvN",
        "colab_type": "code",
        "colab": {
          "base_uri": "https://localhost:8080/",
          "height": 265
        },
        "outputId": "eb80a9e2-23e4-407f-801d-c33f8ab3d958"
      },
      "source": [
        "plt.imshow(test_batch[1, :, :, 0], 'gray')\n",
        "plt.show()"
      ],
      "execution_count": 30,
      "outputs": [
        {
          "output_type": "display_data",
          "data": {
            "image/png": "[encoded data removed]",
            "text/plain": [
              "<Figure size 432x288 with 1 Axes>"
            ]
          },
          "metadata": {
            "tags": [],
            "needs_background": "light"
          }
        }
      ]
    },
    {
      "cell_type": "code",
      "metadata": {
        "id": "aqQl-PKxtg_H",
        "colab_type": "code",
        "colab": {
          "base_uri": "https://localhost:8080/",
          "height": 265
        },
        "outputId": "f3b3b4b1-9b53-4c15-d40c-251974063215"
      },
      "source": [
        "plt.imshow(test_batch[2, :, :, 0], 'gray')\n",
        "plt.show()"
      ],
      "execution_count": 31,
      "outputs": [
        {
          "output_type": "display_data",
          "data": {
            "image/png": "[encoded data removed]",
            "text/plain": [
              "<Figure size 432x288 with 1 Axes>"
            ]
          },
          "metadata": {
            "tags": [],
            "needs_background": "light"
          }
        }
      ]
    },
    {
      "cell_type": "code",
      "metadata": {
        "id": "LZWt-6f7tiMO",
        "colab_type": "code",
        "colab": {}
      },
      "source": [
        ""
      ],
      "execution_count": null,
      "outputs": []
    }
  ]
}