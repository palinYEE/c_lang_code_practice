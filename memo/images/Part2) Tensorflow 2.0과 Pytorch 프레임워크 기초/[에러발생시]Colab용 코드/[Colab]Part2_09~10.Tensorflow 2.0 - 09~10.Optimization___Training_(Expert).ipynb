{
  "nbformat": 4,
  "nbformat_minor": 0,
  "metadata": {
    "kernelspec": {
      "display_name": "Python 3",
      "language": "python",
      "name": "python3"
    },
    "language_info": {
      "codemirror_mode": {
        "name": "ipython",
        "version": 3
      },
      "file_extension": ".py",
      "mimetype": "text/x-python",
      "name": "python",
      "nbconvert_exporter": "python",
      "pygments_lexer": "ipython3",
      "version": "3.7.3"
    },
    "colab": {
      "name": "[검수완료/애매]2-07~8. Optimization _ Training (Expert) [before].ipynb",
      "provenance": []
    }
  },
  "cells": [
    {
      "cell_type": "markdown",
      "metadata": {
        "id": "E3nJl6KFBYBu",
        "colab_type": "text"
      },
      "source": [
        "# TensorFlow: Optimization & Training (Expert)"
      ]
    },
    {
      "cell_type": "markdown",
      "metadata": {
        "id": "l0DL_7r6BYBv",
        "colab_type": "text"
      },
      "source": [
        "https://www.tensorflow.org/  \n",
        "공식 홈페이지에서 설명하는 Expert 버젼을 배워보자"
      ]
    },
    {
      "cell_type": "code",
      "metadata": {
        "id": "d-xjkXBaBYBw",
        "colab_type": "code",
        "colab": {}
      },
      "source": [
        "import tensorflow as tf\n",
        "from tensorflow.keras import layers\n",
        "\n",
        "from tensorflow.keras import datasets "
      ],
      "execution_count": null,
      "outputs": []
    },
    {
      "cell_type": "markdown",
      "metadata": {
        "id": "1Ia82_KeBYB2",
        "colab_type": "text"
      },
      "source": [
        "## 학습 과정 돌아보기"
      ]
    },
    {
      "cell_type": "markdown",
      "metadata": {
        "id": "VhyOo7DQBYB3",
        "colab_type": "text"
      },
      "source": [
        "![image.png](attachment:image.png)"
      ]
    },
    {
      "cell_type": "markdown",
      "metadata": {
        "id": "9BXVzhbPBYB3",
        "colab_type": "text"
      },
      "source": [
        "# Build Model"
      ]
    },
    {
      "cell_type": "markdown",
      "metadata": {
        "id": "bds74v47BYB4",
        "colab_type": "text"
      },
      "source": [
        "![image.png](attachment:image.png)"
      ]
    },
    {
      "cell_type": "code",
      "metadata": {
        "id": "OGjj9LX-BYB4",
        "colab_type": "code",
        "colab": {}
      },
      "source": [
        "input_shape = (28, 28, 1)\n",
        "num_classes = 10"
      ],
      "execution_count": null,
      "outputs": []
    },
    {
      "cell_type": "code",
      "metadata": {
        "id": "OqoYCrkxBYB7",
        "colab_type": "code",
        "colab": {
          "base_uri": "https://localhost:8080/",
          "height": 139
        },
        "outputId": "0de47505-9786-43a3-f232-b4b38caa5c10"
      },
      "source": [
        "inputs = layers.Input(input_shape, dtype=tf.float64)\n",
        "net = layers.Conv2D(32, (3, 3), padding='SAME')(inputs)\n",
        "net = layers.Activation('relu')(net)\n",
        "net = layers.Conv2D(32, (3, 3), padding='SAME')(net)\n",
        "net = layers.Activation('relu')(net)\n",
        "net = layers.MaxPooling2D(pool_size=(2, 2))(net)\n",
        "net = layers.Dropout(0.5)(net)\n",
        "\n",
        "net = layers.Conv2D(64, (3, 3), padding='SAME')(net)\n",
        "net = layers.Activation('relu')(net)\n",
        "net = layers.Conv2D(64, (3, 3), padding='SAME')(net)\n",
        "net = layers.Activation('relu')(net)\n",
        "net = layers.MaxPooling2D(pool_size=(2, 2))(net)\n",
        "net = layers.Dropout(0.5)(net)\n",
        "\n",
        "net = layers.Flatten()(net)\n",
        "net = layers.Dense(512)(net)\n",
        "net = layers.Activation('relu')(net)\n",
        "net = layers.Dropout(0.5)(net)\n",
        "net = layers.Dense(num_classes)(net)\n",
        "net = layers.Activation('softmax')(net)\n",
        "\n",
        "model = tf.keras.Model(inputs=inputs, outputs=net, name='Basic_CNN')"
      ],
      "execution_count": null,
      "outputs": [
        {
          "output_type": "stream",
          "text": [
            "WARNING:tensorflow:Layer conv2d is casting an input tensor from dtype float64 to the layer's dtype of float32, which is new behavior in TensorFlow 2.  The layer has dtype float32 because its dtype defaults to floatx.\n",
            "\n",
            "If you intended to run this layer in float32, you can safely ignore this warning. If in doubt, this warning is likely only an issue if you are porting a TensorFlow 1.X model to TensorFlow 2.\n",
            "\n",
            "To change all layers to have dtype float64 by default, call `tf.keras.backend.set_floatx('float64')`. To change just this layer, pass dtype='float64' to the layer constructor. If you are the author of this layer, you can disable autocasting by passing autocast=False to the base Layer constructor.\n",
            "\n"
          ],
          "name": "stdout"
        }
      ]
    },
    {
      "cell_type": "markdown",
      "metadata": {
        "id": "uLoF-FChBYB-",
        "colab_type": "text"
      },
      "source": [
        "# Preprocess"
      ]
    },
    {
      "cell_type": "markdown",
      "metadata": {
        "id": "LfGvl8_lBYB_",
        "colab_type": "text"
      },
      "source": [
        "텐서플로우 공식홈페이지에서 말한 expert한 방법\n",
        "- tf.data 사용"
      ]
    },
    {
      "cell_type": "code",
      "metadata": {
        "id": "rHYFpt_fBYB_",
        "colab_type": "code",
        "colab": {}
      },
      "source": [
        "mnist = tf.keras.datasets.mnist\n",
        "\n",
        "# Load Data from MNIST\n",
        "(x_train, y_train), (x_test, y_test) = mnist.load_data()\n",
        "\n",
        "# Channel 차원 추가\n",
        "x_train = x_train[..., tf.newaxis]\n",
        "x_test = x_test[..., tf.newaxis]\n",
        "\n",
        "# Data Normalization\n",
        "x_train, x_test = x_train / 255., x_test / 255."
      ],
      "execution_count": null,
      "outputs": []
    },
    {
      "cell_type": "markdown",
      "metadata": {
        "id": "diEr8-P1BYCB",
        "colab_type": "text"
      },
      "source": [
        "- from_tensor_slices()\n",
        "- shuffle()\n",
        "- batch()"
      ]
    },
    {
      "cell_type": "code",
      "metadata": {
        "id": "bMBcCyjaepPI",
        "colab_type": "code",
        "colab": {
          "base_uri": "https://localhost:8080/",
          "height": 34
        },
        "outputId": "cb507a01-2224-4d61-b0e8-0faa888f2daa"
      },
      "source": [
        "import numpy as np\n",
        "np.min(x_train), np.max(x_train)"
      ],
      "execution_count": null,
      "outputs": [
        {
          "output_type": "execute_result",
          "data": {
            "text/plain": [
              "(0.0, 1.0)"
            ]
          },
          "metadata": {
            "tags": []
          },
          "execution_count": 6
        }
      ]
    },
    {
      "cell_type": "markdown",
      "metadata": {
        "id": "BWjmPp9oBYCB",
        "colab_type": "text"
      },
      "source": [
        "## tf.data"
      ]
    },
    {
      "cell_type": "code",
      "metadata": {
        "id": "rYwOpZ5nBYCC",
        "colab_type": "code",
        "colab": {}
      },
      "source": [
        "train_ds = tf.data.Dataset.from_tensor_slices((x_train, y_train))\n",
        "train_ds = train_ds.shuffle(1000)\n",
        "train_ds = train_ds.batch(32)\n",
        "\n",
        "test_ds = tf.data.Dataset.from_tensor_slices((x_test, y_test))\n",
        "test_ds = test_ds.batch(32)"
      ],
      "execution_count": null,
      "outputs": []
    },
    {
      "cell_type": "markdown",
      "metadata": {
        "id": "_TKbncoGBYCE",
        "colab_type": "text"
      },
      "source": [
        "### Visualize Data\n",
        "\n",
        "matplotlib 불러와서 데이터 시각화하기"
      ]
    },
    {
      "cell_type": "code",
      "metadata": {
        "id": "SAbhqL9BBYCE",
        "colab_type": "code",
        "colab": {}
      },
      "source": [
        "import matplotlib.pyplot as plt\n",
        "%matplotlib inline"
      ],
      "execution_count": null,
      "outputs": []
    },
    {
      "cell_type": "markdown",
      "metadata": {
        "id": "kpIrzqLlBYCG",
        "colab_type": "text"
      },
      "source": [
        "train_ds.take()"
      ]
    },
    {
      "cell_type": "code",
      "metadata": {
        "id": "fiv1r9FEBYCG",
        "colab_type": "code",
        "colab": {}
      },
      "source": [
        "#에러코드\n",
        "for image, label in train_ds.take(2):\n",
        "  #plt.title(label[0]) label[0]이 eagerTensor라는 타입(?)이라서 텍스트로 출력이안됨. 버전업 이슈로 보임\n",
        "  plt.title(str(label[0])) # error, \n",
        "  plt.imshow(image[0, :, :, 0], 'gray')\n",
        "  plt.show()"
      ],
      "execution_count": null,
      "outputs": []
    },
    {
      "cell_type": "code",
      "metadata": {
        "id": "AIa4gIEvBYCH",
        "colab_type": "code",
        "colab": {}
      },
      "source": [
        ""
      ],
      "execution_count": null,
      "outputs": []
    },
    {
      "cell_type": "markdown",
      "metadata": {
        "id": "NKYxQIgDBYCL",
        "colab_type": "text"
      },
      "source": [
        "# Training (Keras)"
      ]
    },
    {
      "cell_type": "markdown",
      "metadata": {
        "id": "RoCf_VJUBYCL",
        "colab_type": "text"
      },
      "source": [
        "Keras로 학습 할 때는 기존과 같지만, train_ds는 generator라서 그대로 넣을 수 있음"
      ]
    },
    {
      "cell_type": "code",
      "metadata": {
        "id": "fUSsArM8BYCM",
        "colab_type": "code",
        "colab": {}
      },
      "source": [
        "#케라스로 학습하는 방법(여기서는 사용하지 x)\n",
        "model.compile(optimizer='adam', loss='sparse_categorical_crossentropy')\n",
        "model.fit(train_ds, epochs=10000)"
      ],
      "execution_count": null,
      "outputs": []
    },
    {
      "cell_type": "markdown",
      "metadata": {
        "id": "2feiBAwKBYCN",
        "colab_type": "text"
      },
      "source": [
        "# Optimization  "
      ]
    },
    {
      "cell_type": "markdown",
      "metadata": {
        "id": "qLyjfoYzBYCN",
        "colab_type": "text"
      },
      "source": [
        "- Loss Function\n",
        "- Optimizer"
      ]
    },
    {
      "cell_type": "code",
      "metadata": {
        "id": "wO9nKfQRBYCO",
        "colab_type": "code",
        "colab": {}
      },
      "source": [
        "loss_object = tf.keras.losses.SparseCategoricalCrossentropy()\n",
        "\n",
        "optimizer = tf.keras.optimizers.Adam()"
      ],
      "execution_count": null,
      "outputs": []
    },
    {
      "cell_type": "markdown",
      "metadata": {
        "id": "MQGRmenBBYCP",
        "colab_type": "text"
      },
      "source": [
        "- Loss Function를 담을 곳\n",
        "- Metrics"
      ]
    },
    {
      "cell_type": "code",
      "metadata": {
        "id": "OOaxRJdZBYCP",
        "colab_type": "code",
        "colab": {}
      },
      "source": [
        "train_loss = tf.keras.metrics.Mean(name='train_loss')\n",
        "train_accuracy = tf.keras.metrics.SparseCategoricalAccuracy(name='train_accuracy')\n",
        "\n",
        "test_loss = tf.keras.metrics.Mean(name='test_loss')\n",
        "test_accuracy = tf.keras.metrics.SparseCategoricalAccuracy(name='test_accuracy')"
      ],
      "execution_count": null,
      "outputs": []
    },
    {
      "cell_type": "markdown",
      "metadata": {
        "id": "_1aUc9abBYCQ",
        "colab_type": "text"
      },
      "source": [
        "# Training  "
      ]
    },
    {
      "cell_type": "markdown",
      "metadata": {
        "id": "WaCWudzSBYCQ",
        "colab_type": "text"
      },
      "source": [
        "@tf.function - 기존 session 열었던 것처럼 바로 작동 안 하고, 그래프만 만들고 학습이 시작되면 돌아가도록 함"
      ]
    },
    {
      "cell_type": "code",
      "metadata": {
        "id": "ha9paHD9BYCQ",
        "colab_type": "code",
        "colab": {}
      },
      "source": [
        "@tf.function\n",
        "def train_step(images, labels):\n",
        "  with tf.GradientTape() as tape:\n",
        "    predictions = model(images)\n",
        "    loss = loss_object(labels, predictions)\n",
        "  gradients = tape.gradient(loss, model.trainable_variables)\n",
        "  optimizer.apply_gradients(zip(gradients, model.trainable_variables))\n",
        "\n",
        "  train_loss(loss)\n",
        "  train_accuracy(labels, predictions)"
      ],
      "execution_count": null,
      "outputs": []
    },
    {
      "cell_type": "code",
      "metadata": {
        "id": "OZK86Nd9BYCR",
        "colab_type": "code",
        "colab": {}
      },
      "source": [
        "for epoch in range(2):\n",
        "  for images, labels in train_ds:\n",
        "    train_step(images, labels)\n",
        "\n",
        "  for test_images, test_labels in test_ds:\n",
        "    test_step(test_images, test_labels)\n",
        "  \n",
        "  template = 'Epoch {}, Loss: {}, Accuracy: {}, Test Loss : {}, Test Accuracy : {}'\n",
        "\n",
        "  print(template.format(epoch+1,\n",
        "                        train_loss.result(),\n",
        "                        train_accuracy.result()*100,\n",
        "                        test_loss.result(),\n",
        "                        test_accuracy.result()*100))"
      ],
      "execution_count": null,
      "outputs": []
    },
    {
      "cell_type": "code",
      "metadata": {
        "id": "kum98bT-BYCT",
        "colab_type": "code",
        "colab": {}
      },
      "source": [
        ""
      ],
      "execution_count": null,
      "outputs": []
    }
  ]
}