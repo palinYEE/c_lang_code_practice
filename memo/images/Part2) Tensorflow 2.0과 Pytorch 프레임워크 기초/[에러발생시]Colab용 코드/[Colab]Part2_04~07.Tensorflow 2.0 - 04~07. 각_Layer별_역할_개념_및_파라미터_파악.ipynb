{
  "nbformat": 4,
  "nbformat_minor": 0,
  "metadata": {
    "kernelspec": {
      "display_name": "Python 3",
      "language": "python",
      "name": "python3"
    },
    "language_info": {
      "codemirror_mode": {
        "name": "ipython",
        "version": 3
      },
      "file_extension": ".py",
      "mimetype": "text/x-python",
      "name": "python",
      "nbconvert_exporter": "python",
      "pygments_lexer": "ipython3",
      "version": "3.7.3"
    },
    "colab": {
      "name": "[검수완료]2-04~5. 각 Layer별 역할 개념 및 파라미터 파악 [before].ipynb",
      "provenance": []
    }
  },
  "cells": [
    {
      "cell_type": "markdown",
      "metadata": {
        "id": "Qb5yFIUfhcEZ",
        "colab_type": "text"
      },
      "source": [
        "# Layer Explaination"
      ]
    },
    {
      "cell_type": "code",
      "metadata": {
        "id": "oIZY_WCQhcEa",
        "colab_type": "code",
        "colab": {}
      },
      "source": [
        "import tensorflow as tf"
      ],
      "execution_count": 1,
      "outputs": []
    },
    {
      "cell_type": "markdown",
      "metadata": {
        "id": "c2NL8qiohcEg",
        "colab_type": "text"
      },
      "source": [
        "## Input Image  \n",
        "Input으로 들어갈 DataSet을 들여다보면서 시각화까지"
      ]
    },
    {
      "cell_type": "markdown",
      "metadata": {
        "id": "WoL2MuX9hcEh",
        "colab_type": "text"
      },
      "source": [
        "패키지 로드  \n",
        "- os\n",
        "- glob\n",
        "- matplotlib"
      ]
    },
    {
      "cell_type": "code",
      "metadata": {
        "id": "56YKwSWJhcEi",
        "colab_type": "code",
        "colab": {}
      },
      "source": [
        "import os\n",
        "\n",
        "import matplotlib.pyplot as plt\n",
        "%matplotlib inline"
      ],
      "execution_count": 2,
      "outputs": []
    },
    {
      "cell_type": "code",
      "metadata": {
        "id": "1JKtZn_hhcEl",
        "colab_type": "code",
        "colab": {
          "base_uri": "https://localhost:8080/",
          "height": 51
        },
        "outputId": "cbeef230-3f1a-4b10-a5d7-f9bdfe074981"
      },
      "source": [
        "from tensorflow.keras import datasets\n",
        "\n",
        "(train_x, train_y), (test_x, test_y) = datasets.mnist.load_data()"
      ],
      "execution_count": 3,
      "outputs": [
        {
          "output_type": "stream",
          "text": [
            "Downloading data from https://storage.googleapis.com/tensorflow/tf-keras-datasets/mnist.npz\n",
            "11493376/11490434 [==============================] - 0s 0us/step\n"
          ],
          "name": "stdout"
        }
      ]
    },
    {
      "cell_type": "code",
      "metadata": {
        "id": "B6Ys-E2Lhr5_",
        "colab_type": "code",
        "colab": {}
      },
      "source": [
        "image = train_x[0]"
      ],
      "execution_count": 4,
      "outputs": []
    },
    {
      "cell_type": "markdown",
      "metadata": {
        "id": "qNehKmG5hcEq",
        "colab_type": "text"
      },
      "source": [
        "이미지를 열어봤으니 무엇을 확인 해볼까요?"
      ]
    },
    {
      "cell_type": "code",
      "metadata": {
        "id": "q9pci9KGhcEr",
        "colab_type": "code",
        "colab": {
          "base_uri": "https://localhost:8080/",
          "height": 34
        },
        "outputId": "88fa9fe0-bc92-42bb-8b23-5648b281072e"
      },
      "source": [
        "# 이미지 shape 확인\n",
        "image.shape"
      ],
      "execution_count": 5,
      "outputs": [
        {
          "output_type": "execute_result",
          "data": {
            "text/plain": [
              "(28, 28)"
            ]
          },
          "metadata": {
            "tags": []
          },
          "execution_count": 5
        }
      ]
    },
    {
      "cell_type": "markdown",
      "metadata": {
        "id": "7XUA5M1VhcEt",
        "colab_type": "text"
      },
      "source": [
        "차원 수를 확인 했는데 어떤 결과가 나왔나요? "
      ]
    },
    {
      "cell_type": "markdown",
      "metadata": {
        "id": "do3bKwxDiCKS",
        "colab_type": "text"
      },
      "source": [
        "[batch_size, height, width, channel]"
      ]
    },
    {
      "cell_type": "code",
      "metadata": {
        "id": "CEL4R2BMiJjE",
        "colab_type": "code",
        "colab": {
          "base_uri": "https://localhost:8080/",
          "height": 265
        },
        "outputId": "ab5216fc-4408-4ce5-c73c-a122b22f6d39"
      },
      "source": [
        "plt.imshow(image, 'gray')\n",
        "plt.show()"
      ],
      "execution_count": 6,
      "outputs": [
        {
          "output_type": "display_data",
          "data": {
            "image/png": "[encoded data removed]",
            "text/plain": [
              "<Figure size 432x288 with 1 Axes>"
            ]
          },
          "metadata": {
            "tags": [],
            "needs_background": "light"
          }
        }
      ]
    },
    {
      "cell_type": "code",
      "metadata": {
        "id": "Z2QD-UcJhcEt",
        "colab_type": "code",
        "colab": {
          "base_uri": "https://localhost:8080/",
          "height": 34
        },
        "outputId": "14bb1287-f47f-4307-f9aa-5bb024da2193"
      },
      "source": [
        "# 차원 수 높이기 \n",
        "image = image[tf.newaxis, ..., tf.newaxis]\n",
        "image.shape"
      ],
      "execution_count": 7,
      "outputs": [
        {
          "output_type": "execute_result",
          "data": {
            "text/plain": [
              "(1, 28, 28, 1)"
            ]
          },
          "metadata": {
            "tags": []
          },
          "execution_count": 7
        }
      ]
    },
    {
      "cell_type": "markdown",
      "metadata": {
        "id": "MEk97ZInhcEv",
        "colab_type": "text"
      },
      "source": [
        "# Feature Extraction"
      ]
    },
    {
      "cell_type": "markdown",
      "metadata": {
        "id": "soAAlu2ahcEv",
        "colab_type": "text"
      },
      "source": [
        "![image.png](attachment:image.png)"
      ]
    },
    {
      "cell_type": "markdown",
      "metadata": {
        "id": "b8nZqIr6hcEv",
        "colab_type": "text"
      },
      "source": [
        "## Convolution"
      ]
    },
    {
      "cell_type": "markdown",
      "metadata": {
        "id": "zDH6MyMahcEw",
        "colab_type": "text"
      },
      "source": [
        "![image.png](attachment:image.png)"
      ]
    },
    {
      "cell_type": "markdown",
      "metadata": {
        "id": "9olEd8tAhcEw",
        "colab_type": "text"
      },
      "source": [
        "filters: layer에서 나갈 때 몇 개의 filter를 만들 것인지 (a.k.a weights, filters, channels)  \n",
        "kernel_size: filter(Weight)의 사이즈  \n",
        "strides: 몇 개의 pixel을 skip 하면서 훑어지나갈 것인지 (사이즈에도 영향을 줌)  \n",
        "padding: zero padding을 만들 것인지. VALID는 Padding이 없고, SAME은 Padding이 있음 (사이즈에도 영향을 줌)  \n",
        "activation: Activation Function을 만들것인지. 당장 설정 안해도 Layer층을 따로 만들 수 있음"
      ]
    },
    {
      "cell_type": "code",
      "metadata": {
        "id": "Ik4GCTZ6hcEw",
        "colab_type": "code",
        "colab": {
          "base_uri": "https://localhost:8080/",
          "height": 34
        },
        "outputId": "1d43fba4-1ff1-4c33-a777-3bd32397a568"
      },
      "source": [
        "tf.keras.layers.Conv2D(filters=3, kernel_size=(3,3), strides=(1,1), padding='SAME', activation='relu')"
      ],
      "execution_count": 8,
      "outputs": [
        {
          "output_type": "execute_result",
          "data": {
            "text/plain": [
              "<tensorflow.python.keras.layers.convolutional.Conv2D at 0x7f82c8ba1cc0>"
            ]
          },
          "metadata": {
            "tags": []
          },
          "execution_count": 8
        }
      ]
    },
    {
      "cell_type": "markdown",
      "metadata": {
        "id": "1iIRgbVVhcEy",
        "colab_type": "text"
      },
      "source": [
        "(3, 3) 대신에 3으로도 대체 가능"
      ]
    },
    {
      "cell_type": "code",
      "metadata": {
        "id": "RW62Qy4AhcEy",
        "colab_type": "code",
        "colab": {
          "base_uri": "https://localhost:8080/",
          "height": 34
        },
        "outputId": "7dec0c68-e336-472b-8803-935ce6e688ff"
      },
      "source": [
        "tf.keras.layers.Conv2D(3,3,1,'SAME')"
      ],
      "execution_count": 9,
      "outputs": [
        {
          "output_type": "execute_result",
          "data": {
            "text/plain": [
              "<tensorflow.python.keras.layers.convolutional.Conv2D at 0x7f829891be10>"
            ]
          },
          "metadata": {
            "tags": []
          },
          "execution_count": 9
        }
      ]
    },
    {
      "cell_type": "markdown",
      "metadata": {
        "id": "hDpsQztVhcE0",
        "colab_type": "text"
      },
      "source": [
        "### Visualization"
      ]
    },
    {
      "cell_type": "markdown",
      "metadata": {
        "id": "1nEV2XuUhcE0",
        "colab_type": "text"
      },
      "source": [
        "- tf.keras.layers.Conv2D"
      ]
    },
    {
      "cell_type": "code",
      "metadata": {
        "id": "TCl-9CUlhcE0",
        "colab_type": "code",
        "colab": {
          "base_uri": "https://localhost:8080/",
          "height": 34
        },
        "outputId": "5eb87405-09c0-49a8-f119-6dde3b02b7e5"
      },
      "source": [
        "image = tf.cast(image, dtype=tf.float32)\n",
        "image.dtype"
      ],
      "execution_count": 10,
      "outputs": [
        {
          "output_type": "execute_result",
          "data": {
            "text/plain": [
              "tf.float32"
            ]
          },
          "metadata": {
            "tags": []
          },
          "execution_count": 10
        }
      ]
    },
    {
      "cell_type": "code",
      "metadata": {
        "id": "ZRqorQf4hcE2",
        "colab_type": "code",
        "colab": {
          "base_uri": "https://localhost:8080/",
          "height": 34
        },
        "outputId": "98af47dd-7090-4f7b-bdef-adfb5711e3f3"
      },
      "source": [
        "layer = tf.keras.layers.Conv2D(3,3,1,padding='SAME')\n",
        "layer"
      ],
      "execution_count": 11,
      "outputs": [
        {
          "output_type": "execute_result",
          "data": {
            "text/plain": [
              "<tensorflow.python.keras.layers.convolutional.Conv2D at 0x7f829891b8d0>"
            ]
          },
          "metadata": {
            "tags": []
          },
          "execution_count": 11
        }
      ]
    },
    {
      "cell_type": "code",
      "metadata": {
        "id": "ivlWbX7nkEMl",
        "colab_type": "code",
        "colab": {}
      },
      "source": [
        "output = layer(image) "
      ],
      "execution_count": 12,
      "outputs": []
    },
    {
      "cell_type": "code",
      "metadata": {
        "id": "4z92spTGkf0U",
        "colab_type": "code",
        "colab": {
          "base_uri": "https://localhost:8080/",
          "height": 34
        },
        "outputId": "ab2bfea9-c78b-485f-84f6-2d677eb9d42c"
      },
      "source": [
        "import numpy as np\n",
        "np.min(image), np.max(image)"
      ],
      "execution_count": 13,
      "outputs": [
        {
          "output_type": "execute_result",
          "data": {
            "text/plain": [
              "(0.0, 255.0)"
            ]
          },
          "metadata": {
            "tags": []
          },
          "execution_count": 13
        }
      ]
    },
    {
      "cell_type": "code",
      "metadata": {
        "id": "_0nbwlGYkw_q",
        "colab_type": "code",
        "colab": {
          "base_uri": "https://localhost:8080/",
          "height": 34
        },
        "outputId": "e9101bc2-78b6-433a-8b2a-3f03321d17eb"
      },
      "source": [
        "np.min(output), np.max(output)"
      ],
      "execution_count": 14,
      "outputs": [
        {
          "output_type": "execute_result",
          "data": {
            "text/plain": [
              "(-119.9457, 185.448)"
            ]
          },
          "metadata": {
            "tags": []
          },
          "execution_count": 14
        }
      ]
    },
    {
      "cell_type": "code",
      "metadata": {
        "id": "lsoXYn5qkD5o",
        "colab_type": "code",
        "colab": {
          "base_uri": "https://localhost:8080/",
          "height": 201
        },
        "outputId": "cc2c40b0-147c-4efa-a394-ba288346b32a"
      },
      "source": [
        "\n",
        "plt.subplot(1,2,1)\n",
        "plt.imshow(image[0,:,:,0], 'gray')\n",
        "plt.subplot(1,2,2)\n",
        "plt.imshow(output[0,:,:,0], 'gray')\n",
        "plt.show()"
      ],
      "execution_count": 15,
      "outputs": [
        {
          "output_type": "display_data",
          "data": {
            "image/png": "[encoded data removed]",
            "text/plain": [
              "<Figure size 432x288 with 2 Axes>"
            ]
          },
          "metadata": {
            "tags": [],
            "needs_background": "light"
          }
        }
      ]
    },
    {
      "cell_type": "markdown",
      "metadata": {
        "id": "CtjRvuJZhcE3",
        "colab_type": "text"
      },
      "source": [
        "weight 불러오기\n",
        "\n",
        "- layer.get_weights()"
      ]
    },
    {
      "cell_type": "code",
      "metadata": {
        "id": "p7hLk0AdhcE3",
        "colab_type": "code",
        "colab": {}
      },
      "source": [
        "weight = layer.get_weights()"
      ],
      "execution_count": 16,
      "outputs": []
    },
    {
      "cell_type": "code",
      "metadata": {
        "id": "RV29-hw4k-cq",
        "colab_type": "code",
        "colab": {
          "base_uri": "https://localhost:8080/",
          "height": 34
        },
        "outputId": "5bf69a54-4cff-489f-b8bd-2ab78c4b920b"
      },
      "source": [
        "len(weight)"
      ],
      "execution_count": 17,
      "outputs": [
        {
          "output_type": "execute_result",
          "data": {
            "text/plain": [
              "2"
            ]
          },
          "metadata": {
            "tags": []
          },
          "execution_count": 17
        }
      ]
    },
    {
      "cell_type": "code",
      "metadata": {
        "id": "y7Pm6laFlEvJ",
        "colab_type": "code",
        "colab": {
          "base_uri": "https://localhost:8080/",
          "height": 34
        },
        "outputId": "ca288796-5061-499c-887c-dfb673eb1910"
      },
      "source": [
        "weight[0].shape, weight[1].shape"
      ],
      "execution_count": 18,
      "outputs": [
        {
          "output_type": "execute_result",
          "data": {
            "text/plain": [
              "((3, 3, 1, 3), (3,))"
            ]
          },
          "metadata": {
            "tags": []
          },
          "execution_count": 18
        }
      ]
    },
    {
      "cell_type": "code",
      "metadata": {
        "id": "1lkNnWqAdilK",
        "colab_type": "code",
        "colab": {
          "base_uri": "https://localhost:8080/",
          "height": 286
        },
        "outputId": "6cc31d98-6ff7-4262-f1ba-d445986ae5db"
      },
      "source": [
        "plt.figure(figsize=(15,5))\n",
        "plt.subplot(131)\n",
        "plt.hist(output.numpy().ravel(), range=[-2,2])\n",
        "plt.ylim(0, 100)\n",
        "plt.subplot(132)\n",
        "plt.title(weight[0].shape)\n",
        "plt.imshow(weight[0][:,:,0,0], 'gray')\n",
        "plt.subplot(133)\n",
        "plt.title(output.shape)\n",
        "plt.imshow(output[0,:,:,0], 'gray')\n",
        "plt.colorbar()\n",
        "plt.show()"
      ],
      "execution_count": 19,
      "outputs": [
        {
          "output_type": "display_data",
          "data": {
            "image/png": "[encoded data removed]",
            "text/plain": [
              "<Figure size 1080x360 with 4 Axes>"
            ]
          },
          "metadata": {
            "tags": [],
            "needs_background": "light"
          }
        }
      ]
    },
    {
      "cell_type": "markdown",
      "metadata": {
        "id": "9u_j-SHEhcE4",
        "colab_type": "text"
      },
      "source": [
        "## Activation Function"
      ]
    },
    {
      "cell_type": "markdown",
      "metadata": {
        "id": "muEg7isXhcE5",
        "colab_type": "text"
      },
      "source": [
        "![image.png](attachment:image.png)"
      ]
    },
    {
      "cell_type": "code",
      "metadata": {
        "id": "jfMaL6czhcE5",
        "colab_type": "code",
        "colab": {
          "base_uri": "https://localhost:8080/",
          "height": 34
        },
        "outputId": "e68e7b33-d327-4d02-ed58-a2e00f786383"
      },
      "source": [
        "tf.keras.layers.ReLU()"
      ],
      "execution_count": 20,
      "outputs": [
        {
          "output_type": "execute_result",
          "data": {
            "text/plain": [
              "<tensorflow.python.keras.layers.advanced_activations.ReLU at 0x7f8298915358>"
            ]
          },
          "metadata": {
            "tags": []
          },
          "execution_count": 20
        }
      ]
    },
    {
      "cell_type": "code",
      "metadata": {
        "scrolled": true,
        "id": "MH-3Vwb9hcE6",
        "colab_type": "code",
        "colab": {}
      },
      "source": [
        "act_layer = tf.keras.layers.ReLU()\n",
        "act_output = act_layer(output)"
      ],
      "execution_count": 22,
      "outputs": []
    },
    {
      "cell_type": "code",
      "metadata": {
        "id": "ZjZdYYL7f_0L",
        "colab_type": "code",
        "colab": {
          "base_uri": "https://localhost:8080/",
          "height": 34
        },
        "outputId": "85e248a0-f57e-43bd-a831-92c422ce3be4"
      },
      "source": [
        "output.shape"
      ],
      "execution_count": 24,
      "outputs": [
        {
          "output_type": "execute_result",
          "data": {
            "text/plain": [
              "TensorShape([1, 28, 28, 3])"
            ]
          },
          "metadata": {
            "tags": []
          },
          "execution_count": 24
        }
      ]
    },
    {
      "cell_type": "code",
      "metadata": {
        "id": "jOVHv68if8xg",
        "colab_type": "code",
        "colab": {
          "base_uri": "https://localhost:8080/",
          "height": 34
        },
        "outputId": "a3b039c1-1dfb-4185-a289-61bf52884cbe"
      },
      "source": [
        "act_output.shape"
      ],
      "execution_count": 23,
      "outputs": [
        {
          "output_type": "execute_result",
          "data": {
            "text/plain": [
              "TensorShape([1, 28, 28, 3])"
            ]
          },
          "metadata": {
            "tags": []
          },
          "execution_count": 23
        }
      ]
    },
    {
      "cell_type": "code",
      "metadata": {
        "id": "4MgLpFZLgGTC",
        "colab_type": "code",
        "colab": {
          "base_uri": "https://localhost:8080/",
          "height": 34
        },
        "outputId": "7825b188-2c59-4e5e-ae40-379bdac7be34"
      },
      "source": [
        "np.min(output), np.max(output)"
      ],
      "execution_count": 27,
      "outputs": [
        {
          "output_type": "execute_result",
          "data": {
            "text/plain": [
              "(-119.9457, 185.448)"
            ]
          },
          "metadata": {
            "tags": []
          },
          "execution_count": 27
        }
      ]
    },
    {
      "cell_type": "code",
      "metadata": {
        "id": "i--KTtf2gCIo",
        "colab_type": "code",
        "colab": {
          "base_uri": "https://localhost:8080/",
          "height": 34
        },
        "outputId": "ace57e5a-d24e-4774-ac1a-8acd7404e690"
      },
      "source": [
        "np.min(act_output), np.max(act_output)"
      ],
      "execution_count": 26,
      "outputs": [
        {
          "output_type": "execute_result",
          "data": {
            "text/plain": [
              "(0.0, 185.448)"
            ]
          },
          "metadata": {
            "tags": []
          },
          "execution_count": 26
        }
      ]
    },
    {
      "cell_type": "code",
      "metadata": {
        "id": "esZuyVcagLdL",
        "colab_type": "code",
        "colab": {
          "base_uri": "https://localhost:8080/",
          "height": 317
        },
        "outputId": "09f48789-d928-4332-fe3a-1fe3984b1e20"
      },
      "source": [
        "plt.figure(figsize=(15,5))\n",
        "plt.subplot(121)\n",
        "plt.hist(act_output.numpy().ravel(), range=[-2,2])\n",
        "plt.ylim(0,100)\n",
        "\n",
        "plt.subplot(122)\n",
        "plt.title(act_output.shape)\n",
        "plt.imshow(act_output[0, :, :, 0], 'gray')\n",
        "plt.show()"
      ],
      "execution_count": 30,
      "outputs": [
        {
          "output_type": "display_data",
          "data": {
            "image/png": "[encoded data removed]",
            "text/plain": [
              "<Figure size 1080x360 with 2 Axes>"
            ]
          },
          "metadata": {
            "tags": [],
            "needs_background": "light"
          }
        }
      ]
    },
    {
      "cell_type": "markdown",
      "metadata": {
        "id": "2_dcKnJbhcE7",
        "colab_type": "text"
      },
      "source": [
        "## Pooling"
      ]
    },
    {
      "cell_type": "markdown",
      "metadata": {
        "id": "FkkKfkIxhcE7",
        "colab_type": "text"
      },
      "source": [
        "**굵은 텍스트**![image.png](attachment:image.png)"
      ]
    },
    {
      "cell_type": "markdown",
      "metadata": {
        "id": "YEidEAiDhcE8",
        "colab_type": "text"
      },
      "source": [
        "- tf.keras.layers.MaxPool2D"
      ]
    },
    {
      "cell_type": "code",
      "metadata": {
        "id": "wI1l8XtJhcE8",
        "colab_type": "code",
        "colab": {
          "base_uri": "https://localhost:8080/",
          "height": 34
        },
        "outputId": "227ff00f-5cc9-4cdd-d786-df0de88b45dc"
      },
      "source": [
        "tf.keras.layers.MaxPool2D(pool_size=(2,2), strides=(2,2), padding='SAME')"
      ],
      "execution_count": 31,
      "outputs": [
        {
          "output_type": "execute_result",
          "data": {
            "text/plain": [
              "<tensorflow.python.keras.layers.pooling.MaxPooling2D at 0x7f828e9d9828>"
            ]
          },
          "metadata": {
            "tags": []
          },
          "execution_count": 31
        }
      ]
    },
    {
      "cell_type": "code",
      "metadata": {
        "id": "PEfZqfTLhcE9",
        "colab_type": "code",
        "colab": {}
      },
      "source": [
        "pool_layer = tf.keras.layers.MaxPool2D(pool_size=(2,2), strides=(2,2), padding='SAME')\n",
        "pool_output = pool_layer(act_output)"
      ],
      "execution_count": 32,
      "outputs": []
    },
    {
      "cell_type": "code",
      "metadata": {
        "id": "uIDoA89lhcE-",
        "colab_type": "code",
        "colab": {
          "base_uri": "https://localhost:8080/",
          "height": 34
        },
        "outputId": "cdd78f11-ea7b-41c0-eec8-3cfebed42a96"
      },
      "source": [
        "act_output.shape"
      ],
      "execution_count": 33,
      "outputs": [
        {
          "output_type": "execute_result",
          "data": {
            "text/plain": [
              "TensorShape([1, 28, 28, 3])"
            ]
          },
          "metadata": {
            "tags": []
          },
          "execution_count": 33
        }
      ]
    },
    {
      "cell_type": "code",
      "metadata": {
        "id": "3UrLjLizhcFA",
        "colab_type": "code",
        "colab": {
          "base_uri": "https://localhost:8080/",
          "height": 34
        },
        "outputId": "049ea17a-b7a0-4b58-d684-aef01033cbfe"
      },
      "source": [
        "pool_output.shape"
      ],
      "execution_count": 34,
      "outputs": [
        {
          "output_type": "execute_result",
          "data": {
            "text/plain": [
              "TensorShape([1, 14, 14, 3])"
            ]
          },
          "metadata": {
            "tags": []
          },
          "execution_count": 34
        }
      ]
    },
    {
      "cell_type": "code",
      "metadata": {
        "id": "6fFaLBjmhcFB",
        "colab_type": "code",
        "colab": {
          "base_uri": "https://localhost:8080/",
          "height": 304
        },
        "outputId": "56442ac1-7001-422c-b5e3-7b78329903af"
      },
      "source": [
        "plt.figure(figsize=(15,5))\n",
        "plt.subplot(121)\n",
        "plt.hist(pool_output.numpy().ravel(), range=[-2,2])\n",
        "plt.ylim(0,100)\n",
        "\n",
        "plt.subplot(122)\n",
        "plt.title(pool_output.shape)\n",
        "plt.imshow(pool_output[0, :, :, 0], 'gray')\n",
        "plt.colorbar()\n",
        "plt.show()"
      ],
      "execution_count": 36,
      "outputs": [
        {
          "output_type": "display_data",
          "data": {
            "image/png": "[encoded data removed]",
            "text/plain": [
              "<Figure size 1080x360 with 3 Axes>"
            ]
          },
          "metadata": {
            "tags": [],
            "needs_background": "light"
          }
        }
      ]
    },
    {
      "cell_type": "markdown",
      "metadata": {
        "id": "ODf6HPr6hcFC",
        "colab_type": "text"
      },
      "source": [
        "# Fully Connected"
      ]
    },
    {
      "cell_type": "markdown",
      "metadata": {
        "id": "R9OCpy69hcFC",
        "colab_type": "text"
      },
      "source": [
        "![image.png](attachment:image.png)"
      ]
    },
    {
      "cell_type": "markdown",
      "metadata": {
        "id": "4P2jSRm7hcFD",
        "colab_type": "text"
      },
      "source": [
        "## Flatten"
      ]
    },
    {
      "cell_type": "markdown",
      "metadata": {
        "id": "rNB49C4nhcFD",
        "colab_type": "text"
      },
      "source": [
        "![image.png](attachment:image.png)"
      ]
    },
    {
      "cell_type": "markdown",
      "metadata": {
        "id": "x5Uf_62chcFD",
        "colab_type": "text"
      },
      "source": [
        "- tf.keras.layers.Flatten()"
      ]
    },
    {
      "cell_type": "code",
      "metadata": {
        "id": "VMZc0SfLhcFD",
        "colab_type": "code",
        "colab": {}
      },
      "source": [
        "import tensorflow as tf "
      ],
      "execution_count": 37,
      "outputs": []
    },
    {
      "cell_type": "code",
      "metadata": {
        "id": "JjobTZTbhcFE",
        "colab_type": "code",
        "colab": {
          "base_uri": "https://localhost:8080/",
          "height": 34
        },
        "outputId": "21204d6e-0880-481d-ea91-cebc111db16a"
      },
      "source": [
        "tf.keras.layers.Flatten()"
      ],
      "execution_count": 38,
      "outputs": [
        {
          "output_type": "execute_result",
          "data": {
            "text/plain": [
              "<tensorflow.python.keras.layers.core.Flatten at 0x7f828ea2bda0>"
            ]
          },
          "metadata": {
            "tags": []
          },
          "execution_count": 38
        }
      ]
    },
    {
      "cell_type": "code",
      "metadata": {
        "id": "oIjY8mnohcFF",
        "colab_type": "code",
        "colab": {}
      },
      "source": [
        "layer = tf.keras.layers.Flatten()"
      ],
      "execution_count": 39,
      "outputs": []
    },
    {
      "cell_type": "code",
      "metadata": {
        "id": "uoMy2Av2j12T",
        "colab_type": "code",
        "colab": {}
      },
      "source": [
        "flatten = layer(output)"
      ],
      "execution_count": 40,
      "outputs": []
    },
    {
      "cell_type": "code",
      "metadata": {
        "id": "Vp5_uH9jj1vN",
        "colab_type": "code",
        "colab": {
          "base_uri": "https://localhost:8080/",
          "height": 34
        },
        "outputId": "d06e2c55-95b8-4cab-f3fa-9e7b0e94d2fa"
      },
      "source": [
        "output.shape"
      ],
      "execution_count": 41,
      "outputs": [
        {
          "output_type": "execute_result",
          "data": {
            "text/plain": [
              "TensorShape([1, 28, 28, 3])"
            ]
          },
          "metadata": {
            "tags": []
          },
          "execution_count": 41
        }
      ]
    },
    {
      "cell_type": "code",
      "metadata": {
        "id": "2tzOjcxWj1nt",
        "colab_type": "code",
        "colab": {
          "base_uri": "https://localhost:8080/",
          "height": 34
        },
        "outputId": "2830fe5d-9bef-4efc-f7fd-50d5f234f95c"
      },
      "source": [
        "flatten.shape"
      ],
      "execution_count": 42,
      "outputs": [
        {
          "output_type": "execute_result",
          "data": {
            "text/plain": [
              "TensorShape([1, 2352])"
            ]
          },
          "metadata": {
            "tags": []
          },
          "execution_count": 42
        }
      ]
    },
    {
      "cell_type": "code",
      "metadata": {
        "id": "oqfEGtDyj1fV",
        "colab_type": "code",
        "colab": {
          "base_uri": "https://localhost:8080/",
          "height": 34
        },
        "outputId": "5fb525c6-1885-44b8-b5ed-ee048de7ce14"
      },
      "source": [
        "28 * 28 * 3"
      ],
      "execution_count": 43,
      "outputs": [
        {
          "output_type": "execute_result",
          "data": {
            "text/plain": [
              "2352"
            ]
          },
          "metadata": {
            "tags": []
          },
          "execution_count": 43
        }
      ]
    },
    {
      "cell_type": "code",
      "metadata": {
        "id": "yn77Ke_Cj_hX",
        "colab_type": "code",
        "colab": {
          "base_uri": "https://localhost:8080/",
          "height": 261
        },
        "outputId": "e3f213ce-b899-4a0d-ad86-51535818370d"
      },
      "source": [
        "plt.figure(figsize=(10,5))\n",
        "plt.subplot(211)\n",
        "plt.hist(flatten.numpy().ravel())\n",
        "plt.subplot(212)\n",
        "plt.imshow(flatten[:, :100])\n",
        "plt.show()"
      ],
      "execution_count": 46,
      "outputs": [
        {
          "output_type": "display_data",
          "data": {
            "image/png": "[encoded data removed]",
            "text/plain": [
              "<Figure size 720x360 with 2 Axes>"
            ]
          },
          "metadata": {
            "tags": [],
            "needs_background": "light"
          }
        }
      ]
    },
    {
      "cell_type": "markdown",
      "metadata": {
        "id": "mmtAtQ5whcFG",
        "colab_type": "text"
      },
      "source": [
        "## Dense"
      ]
    },
    {
      "cell_type": "markdown",
      "metadata": {
        "id": "rmo3BiBihcFH",
        "colab_type": "text"
      },
      "source": [
        "![image.png](attachment:image.png)"
      ]
    },
    {
      "cell_type": "markdown",
      "metadata": {
        "id": "47Fkx1zjhcFH",
        "colab_type": "text"
      },
      "source": [
        "- tf.keras.layers.Dense"
      ]
    },
    {
      "cell_type": "code",
      "metadata": {
        "id": "WXjokjjIhcFH",
        "colab_type": "code",
        "colab": {
          "base_uri": "https://localhost:8080/",
          "height": 34
        },
        "outputId": "44074587-729c-4ec1-b8fd-9a2a17b4c854"
      },
      "source": [
        "tf.keras.layers.Dense(32, activation='relu')"
      ],
      "execution_count": 47,
      "outputs": [
        {
          "output_type": "execute_result",
          "data": {
            "text/plain": [
              "<tensorflow.python.keras.layers.core.Dense at 0x7f828e489780>"
            ]
          },
          "metadata": {
            "tags": []
          },
          "execution_count": 47
        }
      ]
    },
    {
      "cell_type": "code",
      "metadata": {
        "id": "ilHbXBU1hcFI",
        "colab_type": "code",
        "colab": {}
      },
      "source": [
        "layer = tf.keras.layers.Dense(32, activation='relu')"
      ],
      "execution_count": 48,
      "outputs": []
    },
    {
      "cell_type": "code",
      "metadata": {
        "id": "R_BC2qHghcFJ",
        "colab_type": "code",
        "colab": {}
      },
      "source": [
        "output = layer(flatten)"
      ],
      "execution_count": 49,
      "outputs": []
    },
    {
      "cell_type": "code",
      "metadata": {
        "id": "A6ebWTMelaUE",
        "colab_type": "code",
        "colab": {
          "base_uri": "https://localhost:8080/",
          "height": 34
        },
        "outputId": "7770316e-bafa-4135-813c-4a8d77b53a49"
      },
      "source": [
        "output.shape"
      ],
      "execution_count": 50,
      "outputs": [
        {
          "output_type": "execute_result",
          "data": {
            "text/plain": [
              "TensorShape([1, 32])"
            ]
          },
          "metadata": {
            "tags": []
          },
          "execution_count": 50
        }
      ]
    },
    {
      "cell_type": "code",
      "metadata": {
        "id": "M9VWBV_wlfcO",
        "colab_type": "code",
        "colab": {}
      },
      "source": [
        "layer_2 = tf.keras.layers.Dense(10, activation='relu')\n",
        "output_example = layer_2(output)"
      ],
      "execution_count": 51,
      "outputs": []
    },
    {
      "cell_type": "code",
      "metadata": {
        "id": "3ECVwjHilfLv",
        "colab_type": "code",
        "colab": {
          "base_uri": "https://localhost:8080/",
          "height": 34
        },
        "outputId": "7865e44d-20b4-47fe-8a84-3c4c9649e7c9"
      },
      "source": [
        "output_example.shape"
      ],
      "execution_count": 52,
      "outputs": [
        {
          "output_type": "execute_result",
          "data": {
            "text/plain": [
              "TensorShape([1, 10])"
            ]
          },
          "metadata": {
            "tags": []
          },
          "execution_count": 52
        }
      ]
    },
    {
      "cell_type": "markdown",
      "metadata": {
        "id": "G-m6gHBqhcFJ",
        "colab_type": "text"
      },
      "source": [
        "## DropOut"
      ]
    },
    {
      "cell_type": "markdown",
      "metadata": {
        "id": "xjcDojQ4hcFK",
        "colab_type": "text"
      },
      "source": [
        "![image.png](attachment:image.png)"
      ]
    },
    {
      "cell_type": "markdown",
      "metadata": {
        "id": "2MexTPrDhcFK",
        "colab_type": "text"
      },
      "source": [
        "- tf.keras.layers.Dropout"
      ]
    },
    {
      "cell_type": "code",
      "metadata": {
        "id": "38JAtXCahcFK",
        "colab_type": "code",
        "colab": {}
      },
      "source": [
        "layer = tf.keras.layers.Dropout(0.7)\n",
        "output = layer(output)"
      ],
      "execution_count": 53,
      "outputs": []
    },
    {
      "cell_type": "code",
      "metadata": {
        "id": "UIHfKRLQhcFL",
        "colab_type": "code",
        "colab": {
          "base_uri": "https://localhost:8080/",
          "height": 34
        },
        "outputId": "63fd48a1-ab55-4c63-d709-c47007d087f2"
      },
      "source": [
        "output.shape"
      ],
      "execution_count": 54,
      "outputs": [
        {
          "output_type": "execute_result",
          "data": {
            "text/plain": [
              "TensorShape([1, 32])"
            ]
          },
          "metadata": {
            "tags": []
          },
          "execution_count": 54
        }
      ]
    },
    {
      "cell_type": "markdown",
      "metadata": {
        "id": "C0rzSW07hcFM",
        "colab_type": "text"
      },
      "source": [
        "# Build Model"
      ]
    },
    {
      "cell_type": "markdown",
      "metadata": {
        "id": "cgNer59MhcFM",
        "colab_type": "text"
      },
      "source": [
        "![image.png](attachment:image.png)"
      ]
    },
    {
      "cell_type": "code",
      "metadata": {
        "id": "1STMhzGbhcFM",
        "colab_type": "code",
        "colab": {}
      },
      "source": [
        "from tensorflow.keras import layers"
      ],
      "execution_count": 21,
      "outputs": []
    },
    {
      "cell_type": "code",
      "metadata": {
        "id": "S_YUYLPEhcFN",
        "colab_type": "code",
        "colab": {}
      },
      "source": [
        "input_shape = (28, 28, 1)\n",
        "num_classes = 10"
      ],
      "execution_count": 55,
      "outputs": []
    },
    {
      "cell_type": "code",
      "metadata": {
        "id": "XswG3qRshcFO",
        "colab_type": "code",
        "colab": {}
      },
      "source": [
        "inputs = layers.Input(shape=input_shape)\n",
        "\n",
        "# Feature Extraction\n",
        "net = layers.Conv2D(32, 2, padding='SAME')(inputs)\n",
        "net = layers.Activation('relu')(net)\n",
        "net = layers.Conv2D(32, 2, padding='SAME')(net)\n",
        "net = layers.Activation('relu')(net)\n",
        "net = layers.MaxPool2D(2, 2)(net)\n",
        "net = layers.Dropout(0.25)(net)\n",
        "\n",
        "net = layers.Conv2D(64, 2, padding='SAME')(net)\n",
        "net = layers.Activation('relu')(net)\n",
        "net = layers.Conv2D(64, 2, padding='SAME')(net)\n",
        "net = layers.Activation('relu')(net)\n",
        "net = layers.MaxPool2D(2, 2)(net)\n",
        "net = layers.Dropout(0.25)(net)\n",
        "\n",
        "# Fully Connected\n",
        "net = layers.Flatten()(net)\n",
        "net = layers.Dense(512)(net)\n",
        "net = layers.Activation('relu')(net)\n",
        "net = layers.Dropout(0.25)(net)\n",
        "net = layers.Dense(10)(net)\n",
        "net = layers.Activation('softmax')(net)\n",
        "\n",
        "model = tf.keras.Model(inputs=inputs, outputs=net, name='Basic_CNN')"
      ],
      "execution_count": 57,
      "outputs": []
    },
    {
      "cell_type": "code",
      "metadata": {
        "id": "HtZUaWkIpN2f",
        "colab_type": "code",
        "colab": {
          "base_uri": "https://localhost:8080/",
          "height": 34
        },
        "outputId": "819ebd70-93df-4d90-f255-25ba1b8b8573"
      },
      "source": [
        "model"
      ],
      "execution_count": 58,
      "outputs": [
        {
          "output_type": "execute_result",
          "data": {
            "text/plain": [
              "<tensorflow.python.keras.engine.functional.Functional at 0x7f828e6c64a8>"
            ]
          },
          "metadata": {
            "tags": []
          },
          "execution_count": 58
        }
      ]
    },
    {
      "cell_type": "markdown",
      "metadata": {
        "id": "jvPr19pjhcFP",
        "colab_type": "text"
      },
      "source": [
        "## Summary"
      ]
    },
    {
      "cell_type": "code",
      "metadata": {
        "scrolled": false,
        "id": "R-ZS-yRahcFP",
        "colab_type": "code",
        "colab": {
          "base_uri": "https://localhost:8080/",
          "height": 799
        },
        "outputId": "a9ad99eb-4da0-4a38-ae17-217302bf1dcc"
      },
      "source": [
        "model.summary()"
      ],
      "execution_count": 59,
      "outputs": [
        {
          "output_type": "stream",
          "text": [
            "Model: \"Basic_CNN\"\n",
            "_________________________________________________________________\n",
            "Layer (type)                 Output Shape              Param #   \n",
            "=================================================================\n",
            "input_2 (InputLayer)         [(None, 28, 28, 1)]       0         \n",
            "_________________________________________________________________\n",
            "conv2d_7 (Conv2D)            (None, 28, 28, 32)        160       \n",
            "_________________________________________________________________\n",
            "activation_4 (Activation)    (None, 28, 28, 32)        0         \n",
            "_________________________________________________________________\n",
            "conv2d_8 (Conv2D)            (None, 28, 28, 32)        4128      \n",
            "_________________________________________________________________\n",
            "activation_5 (Activation)    (None, 28, 28, 32)        0         \n",
            "_________________________________________________________________\n",
            "max_pooling2d_4 (MaxPooling2 (None, 14, 14, 32)        0         \n",
            "_________________________________________________________________\n",
            "dropout_3 (Dropout)          (None, 14, 14, 32)        0         \n",
            "_________________________________________________________________\n",
            "conv2d_9 (Conv2D)            (None, 14, 14, 64)        8256      \n",
            "_________________________________________________________________\n",
            "activation_6 (Activation)    (None, 14, 14, 64)        0         \n",
            "_________________________________________________________________\n",
            "conv2d_10 (Conv2D)           (None, 14, 14, 64)        16448     \n",
            "_________________________________________________________________\n",
            "activation_7 (Activation)    (None, 14, 14, 64)        0         \n",
            "_________________________________________________________________\n",
            "max_pooling2d_5 (MaxPooling2 (None, 7, 7, 64)          0         \n",
            "_________________________________________________________________\n",
            "dropout_4 (Dropout)          (None, 7, 7, 64)          0         \n",
            "_________________________________________________________________\n",
            "flatten_3 (Flatten)          (None, 3136)              0         \n",
            "_________________________________________________________________\n",
            "dense_4 (Dense)              (None, 512)               1606144   \n",
            "_________________________________________________________________\n",
            "activation_8 (Activation)    (None, 512)               0         \n",
            "_________________________________________________________________\n",
            "dropout_5 (Dropout)          (None, 512)               0         \n",
            "_________________________________________________________________\n",
            "dense_5 (Dense)              (None, 10)                5130      \n",
            "_________________________________________________________________\n",
            "activation_9 (Activation)    (None, 10)                0         \n",
            "=================================================================\n",
            "Total params: 1,640,266\n",
            "Trainable params: 1,640,266\n",
            "Non-trainable params: 0\n",
            "_________________________________________________________________\n"
          ],
          "name": "stdout"
        }
      ]
    },
    {
      "cell_type": "code",
      "metadata": {
        "id": "92wU0sJzpQaF",
        "colab_type": "code",
        "colab": {}
      },
      "source": [
        ""
      ],
      "execution_count": null,
      "outputs": []
    }
  ]
}