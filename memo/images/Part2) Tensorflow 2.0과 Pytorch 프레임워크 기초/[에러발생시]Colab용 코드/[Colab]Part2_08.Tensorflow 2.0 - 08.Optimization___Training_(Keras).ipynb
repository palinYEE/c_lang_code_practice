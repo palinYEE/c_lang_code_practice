{
  "nbformat": 4,
  "nbformat_minor": 0,
  "metadata": {
    "kernelspec": {
      "display_name": "Python 3",
      "language": "python",
      "name": "python3"
    },
    "language_info": {
      "codemirror_mode": {
        "name": "ipython",
        "version": 3
      },
      "file_extension": ".py",
      "mimetype": "text/x-python",
      "name": "python",
      "nbconvert_exporter": "python",
      "pygments_lexer": "ipython3",
      "version": "3.7.3"
    },
    "colab": {
      "name": "[검수완료]2-06. Optimization _ Training (Keras) [before].ipynb",
      "provenance": []
    }
  },
  "cells": [
    {
      "cell_type": "markdown",
      "metadata": {
        "id": "NIqKhqKSpofm",
        "colab_type": "text"
      },
      "source": [
        "# Optimization & Training (Beginner)"
      ]
    },
    {
      "cell_type": "markdown",
      "metadata": {
        "id": "cCscPZ4upofn",
        "colab_type": "text"
      },
      "source": [
        "- tf와 layers 패키지 불러오기"
      ]
    },
    {
      "cell_type": "code",
      "metadata": {
        "id": "DADj-qM7pofn",
        "colab_type": "code",
        "colab": {}
      },
      "source": [
        "import tensorflow as tf\n",
        "from tensorflow.keras import layers\n",
        "\n",
        "from tensorflow.keras import datasets\n",
        "import numpy as np"
      ],
      "execution_count": null,
      "outputs": []
    },
    {
      "cell_type": "markdown",
      "metadata": {
        "id": "7F3Aodj0pofq",
        "colab_type": "text"
      },
      "source": [
        "## 학습 과정 돌아보기"
      ]
    },
    {
      "cell_type": "markdown",
      "metadata": {
        "id": "YZj7EFWupofr",
        "colab_type": "text"
      },
      "source": [
        "![image.png](attachment:image.png)"
      ]
    },
    {
      "cell_type": "markdown",
      "metadata": {
        "id": "C3gZcSJRpofr",
        "colab_type": "text"
      },
      "source": [
        "# Prepare MNIST Datset"
      ]
    },
    {
      "cell_type": "code",
      "metadata": {
        "id": "VrFEzLafpofs",
        "colab_type": "code",
        "colab": {}
      },
      "source": [
        "(train_x, train_y), (test_x, test_y) = datasets.mnist.load_data()"
      ],
      "execution_count": null,
      "outputs": []
    },
    {
      "cell_type": "code",
      "metadata": {
        "id": "AUiajuqK82TQ",
        "colab_type": "code",
        "colab": {
          "base_uri": "https://localhost:8080/",
          "height": 34
        },
        "outputId": "51416918-2ca6-4a8f-fa2e-57443fe0912b"
      },
      "source": [
        "np.min(train_x), np.max(train_x)"
      ],
      "execution_count": null,
      "outputs": [
        {
          "output_type": "execute_result",
          "data": {
            "text/plain": [
              "(0, 255)"
            ]
          },
          "metadata": {
            "tags": []
          },
          "execution_count": 18
        }
      ]
    },
    {
      "cell_type": "markdown",
      "metadata": {
        "id": "cTzdSi5xpofu",
        "colab_type": "text"
      },
      "source": [
        "## Build Model"
      ]
    },
    {
      "cell_type": "markdown",
      "metadata": {
        "id": "DGig9NhRpofv",
        "colab_type": "text"
      },
      "source": [
        "![image.png](attachment:image.png)"
      ]
    },
    {
      "cell_type": "code",
      "metadata": {
        "id": "v9kS6Pyjpofv",
        "colab_type": "code",
        "colab": {}
      },
      "source": [
        "inputs = layers.Input((28, 28, 1))\n",
        "net = layers.Conv2D(32, (3, 3), padding='SAME')(inputs)\n",
        "net = layers.Activation('relu')(net)\n",
        "net = layers.Conv2D(32, (3, 3), padding='SAME')(net)\n",
        "net = layers.Activation('relu')(net)\n",
        "net = layers.MaxPooling2D(pool_size=(2, 2))(net)\n",
        "net = layers.Dropout(0.25)(net)\n",
        "\n",
        "net = layers.Conv2D(64, (3, 3), padding='SAME')(net)\n",
        "net = layers.Activation('relu')(net)\n",
        "net = layers.Conv2D(64, (3, 3), padding='SAME')(net)\n",
        "net = layers.Activation('relu')(net)\n",
        "net = layers.MaxPooling2D(pool_size=(2, 2))(net)\n",
        "net = layers.Dropout(0.25)(net)\n",
        "\n",
        "net = layers.Flatten()(net)\n",
        "net = layers.Dense(512)(net)\n",
        "net = layers.Activation('relu')(net)\n",
        "net = layers.Dropout(0.5)(net)\n",
        "net = layers.Dense(10)(net)  # num_classes\n",
        "net = layers.Activation('softmax')(net)\n",
        "\n",
        "model = tf.keras.Model(inputs=inputs, outputs=net, name='Basic_CNN')"
      ],
      "execution_count": null,
      "outputs": []
    },
    {
      "cell_type": "markdown",
      "metadata": {
        "id": "hzgpp4C8pofx",
        "colab_type": "text"
      },
      "source": [
        "# Optimization  \n",
        "모델을 학습하기 전 설정 "
      ]
    },
    {
      "cell_type": "markdown",
      "metadata": {
        "id": "rBsA8qGBpofy",
        "colab_type": "text"
      },
      "source": [
        "- Loss Function  \n",
        "- Optimization  \n",
        "- Metrics"
      ]
    },
    {
      "cell_type": "markdown",
      "metadata": {
        "id": "N-R-LZ2Lpofy",
        "colab_type": "text"
      },
      "source": [
        "# Loss Function  \n",
        "Loss Function 방법 확인"
      ]
    },
    {
      "cell_type": "markdown",
      "metadata": {
        "id": "nixQ1dkDpofy",
        "colab_type": "text"
      },
      "source": [
        "### Categorical vs Binary"
      ]
    },
    {
      "cell_type": "code",
      "metadata": {
        "id": "1NgHa41xpofz",
        "colab_type": "code",
        "colab": {}
      },
      "source": [
        "loss = 'binary_crossentropy'\n",
        "loss = 'categorcal_crossentropy'"
      ],
      "execution_count": null,
      "outputs": []
    },
    {
      "cell_type": "markdown",
      "metadata": {
        "id": "xLjsWauBpof1",
        "colab_type": "text"
      },
      "source": [
        "### sparse_categorical_crossentropy vs categorical_crossentropy"
      ]
    },
    {
      "cell_type": "code",
      "metadata": {
        "id": "_AVAcDG4pof1",
        "colab_type": "code",
        "colab": {}
      },
      "source": [
        "# 원핫 인코딩 하지 않은 데이터로 loss를 주는 경우\n",
        "loss_fun = tf.keras.losses.sparse_categorical_crossentropy\n",
        "# [1,2,3] 과 같은 정수형 배열 "
      ],
      "execution_count": null,
      "outputs": []
    },
    {
      "cell_type": "code",
      "metadata": {
        "id": "hg8onzUspof4",
        "colab_type": "code",
        "colab": {}
      },
      "source": [
        "# 원핫 인코딩 한 데이터로 loss를 주는 경우\n",
        "tf.keras.losses.categorical_crossentropy"
      ],
      "execution_count": null,
      "outputs": []
    },
    {
      "cell_type": "code",
      "metadata": {
        "id": "87qwlJs_pof6",
        "colab_type": "code",
        "colab": {}
      },
      "source": [
        "# 바이너리로 주는 경우\n",
        "tf.keras.losses.binary_crossentropy"
      ],
      "execution_count": null,
      "outputs": []
    },
    {
      "cell_type": "markdown",
      "metadata": {
        "id": "XEW0BdU5pof8",
        "colab_type": "text"
      },
      "source": [
        "# Metrics  \n",
        "\n",
        "모델을 평가하는 방법"
      ]
    },
    {
      "cell_type": "markdown",
      "metadata": {
        "id": "QRKcuCHlpof8",
        "colab_type": "text"
      },
      "source": [
        "accuracy를 이름으로 넣는 방법"
      ]
    },
    {
      "cell_type": "code",
      "metadata": {
        "id": "45XUWou1pof8",
        "colab_type": "code",
        "colab": {}
      },
      "source": [
        "#가장 간단한 방법\n",
        "metrics = ['accuracy']"
      ],
      "execution_count": null,
      "outputs": []
    },
    {
      "cell_type": "markdown",
      "metadata": {
        "id": "F-sgznOmpof-",
        "colab_type": "text"
      },
      "source": [
        "tf.keras.metrics."
      ]
    },
    {
      "cell_type": "code",
      "metadata": {
        "id": "wB7bGi3upof_",
        "colab_type": "code",
        "colab": {}
      },
      "source": [
        "# accuracy를 넣는 다양한 방법들\n",
        "tf.keras.metrics.Accuracy()\n",
        "tf.keras.metrics.Precision()\n",
        "tf.keras.metrics.Recall()"
      ],
      "execution_count": null,
      "outputs": []
    },
    {
      "cell_type": "code",
      "metadata": {
        "id": "kygm_25JPqFz",
        "colab_type": "code",
        "colab": {
          "base_uri": "https://localhost:8080/",
          "height": 34
        },
        "outputId": "660fcb7d-eec4-4224-fce6-ef17d18e1ea3"
      },
      "source": [
        "[tf.keras.metrics.Accuracy()]"
      ],
      "execution_count": 33,
      "outputs": [
        {
          "output_type": "execute_result",
          "data": {
            "text/plain": [
              "[<tensorflow.python.keras.metrics.Accuracy at 0x7efd198e3a58>]"
            ]
          },
          "metadata": {
            "tags": []
          },
          "execution_count": 33
        }
      ]
    },
    {
      "cell_type": "code",
      "metadata": {
        "id": "qaM1RALnPp9d",
        "colab_type": "code",
        "colab": {
          "base_uri": "https://localhost:8080/",
          "height": 34
        },
        "outputId": "7f9e5ba8-d219-4573-dca3-4b51c912963d"
      },
      "source": [
        "tf.keras.metrics.Accuracy()"
      ],
      "execution_count": 34,
      "outputs": [
        {
          "output_type": "execute_result",
          "data": {
            "text/plain": [
              "<tensorflow.python.keras.metrics.Accuracy at 0x7efd1952e908>"
            ]
          },
          "metadata": {
            "tags": []
          },
          "execution_count": 34
        }
      ]
    },
    {
      "cell_type": "markdown",
      "metadata": {
        "id": "XBw2BVUhpogB",
        "colab_type": "text"
      },
      "source": [
        "## Compile  \n",
        "Optimizer 적용"
      ]
    },
    {
      "cell_type": "markdown",
      "metadata": {
        "id": "XKhU3v6SpogB",
        "colab_type": "text"
      },
      "source": [
        "- 'sgd'\n",
        "- 'rmsprop'\n",
        "- 'adam'"
      ]
    },
    {
      "cell_type": "code",
      "metadata": {
        "id": "de39_2sgpogC",
        "colab_type": "code",
        "colab": {}
      },
      "source": [
        "optm = tf.keras.optimizers.Adam()"
      ],
      "execution_count": null,
      "outputs": []
    },
    {
      "cell_type": "markdown",
      "metadata": {
        "id": "PsXQhaWTpogD",
        "colab_type": "text"
      },
      "source": [
        "- tf.keras.optimizers.SGD()  \n",
        "- tf.keras.optimizers.RMSprop()    \n",
        "- tf.keras.optimizers.Adam()  "
      ]
    },
    {
      "cell_type": "code",
      "metadata": {
        "id": "0AIDO9HUpogD",
        "colab_type": "code",
        "colab": {}
      },
      "source": [
        "model.compile(optimizer=optm,\n",
        "              loss='sparse_categorical_crossentropy',\n",
        "              metrics=['accuracy'], # 'accuracy'는 loss function에 의존함.\n",
        "              print(metrics)\n",
        "              )\n",
        "\n"
      ],
      "execution_count": null,
      "outputs": []
    },
    {
      "cell_type": "markdown",
      "metadata": {
        "id": "oLFt8ylcPFsC",
        "colab_type": "text"
      },
      "source": [
        "[stackoverflow](https://github.com/tensorflow/tensorflow/issues/34088)"
      ]
    },
    {
      "cell_type": "code",
      "metadata": {
        "id": "qAAJijkhO88Z",
        "colab_type": "code",
        "colab": {}
      },
      "source": [
        "#or this code\n",
        "model.compile(optimizer=optm,\n",
        "              loss='sparse_categorical_crossentropy',\n",
        "              metrics=[tf.keras.metrics.SparseCategoricalAccuracy()] # loss function과 맞춰줘야 한다.\n",
        "              #not this!! --> [tf.metrics.Accuracy()]\n",
        "              )"
      ],
      "execution_count": 35,
      "outputs": []
    },
    {
      "cell_type": "markdown",
      "metadata": {
        "id": "zWFaTBR7IvhH",
        "colab_type": "text"
      },
      "source": [
        ""
      ]
    },
    {
      "cell_type": "markdown",
      "metadata": {
        "id": "W0uMRFI7pogG",
        "colab_type": "text"
      },
      "source": [
        "# Prepare Dataset  \n",
        "학습에 사용할 데이터셋 준비"
      ]
    },
    {
      "cell_type": "markdown",
      "metadata": {
        "id": "2JvROA5hpogG",
        "colab_type": "text"
      },
      "source": [
        "shape 확인"
      ]
    },
    {
      "cell_type": "code",
      "metadata": {
        "id": "N4xSKIu8pogH",
        "colab_type": "code",
        "colab": {}
      },
      "source": [
        "train_x.shape, train_y.shape"
      ],
      "execution_count": null,
      "outputs": []
    },
    {
      "cell_type": "code",
      "metadata": {
        "id": "sphASjK7pogI",
        "colab_type": "code",
        "colab": {}
      },
      "source": [
        "test_x.shape, test_y.shape"
      ],
      "execution_count": null,
      "outputs": []
    },
    {
      "cell_type": "markdown",
      "metadata": {
        "id": "u0SWIGedpogJ",
        "colab_type": "text"
      },
      "source": [
        "차원 수 늘리기"
      ]
    },
    {
      "cell_type": "code",
      "metadata": {
        "id": "7BS9N0LfpogK",
        "colab_type": "code",
        "colab": {}
      },
      "source": [
        "import numpy as np"
      ],
      "execution_count": null,
      "outputs": []
    },
    {
      "cell_type": "code",
      "metadata": {
        "id": "lKBMpYw0pogM",
        "colab_type": "code",
        "colab": {}
      },
      "source": [
        "np.expand_dims(train_x, -1).shape"
      ],
      "execution_count": null,
      "outputs": []
    },
    {
      "cell_type": "code",
      "metadata": {
        "id": "W4pRvVe0pogN",
        "colab_type": "code",
        "colab": {}
      },
      "source": [
        "tf.expand_dims(train_x, -1).shape"
      ],
      "execution_count": null,
      "outputs": []
    },
    {
      "cell_type": "code",
      "metadata": {
        "id": "iki9SHIOpogO",
        "colab_type": "code",
        "colab": {}
      },
      "source": [
        "train_x = train_x[..., tf.newaxis]\n",
        "test_x = test_x[..., tf.newaxis]"
      ],
      "execution_count": null,
      "outputs": []
    },
    {
      "cell_type": "markdown",
      "metadata": {
        "id": "EF-yJa3_pogQ",
        "colab_type": "text"
      },
      "source": [
        "차원 수 잘 늘었는지 확인"
      ]
    },
    {
      "cell_type": "code",
      "metadata": {
        "id": "uQ-vPXLX4w_Y",
        "colab_type": "code",
        "colab": {}
      },
      "source": [
        "train_x.shape"
      ],
      "execution_count": null,
      "outputs": []
    },
    {
      "cell_type": "code",
      "metadata": {
        "id": "a8XkT4qupogQ",
        "colab_type": "code",
        "colab": {}
      },
      "source": [
        "test_x.shape"
      ],
      "execution_count": null,
      "outputs": []
    },
    {
      "cell_type": "markdown",
      "metadata": {
        "id": "LJSUDrd9pogU",
        "colab_type": "text"
      },
      "source": [
        "Rescaling"
      ]
    },
    {
      "cell_type": "code",
      "metadata": {
        "id": "z42D39REpogU",
        "colab_type": "code",
        "colab": {
          "base_uri": "https://localhost:8080/",
          "height": 34
        },
        "outputId": "f8aa7b19-7a9c-47f7-e697-9f9a55f94640"
      },
      "source": [
        "np.min(train_x), np.max(train_x)"
      ],
      "execution_count": null,
      "outputs": [
        {
          "output_type": "execute_result",
          "data": {
            "text/plain": [
              "(0, 255)"
            ]
          },
          "metadata": {
            "tags": []
          },
          "execution_count": 22
        }
      ]
    },
    {
      "cell_type": "code",
      "metadata": {
        "id": "X-ghCmVCpogX",
        "colab_type": "code",
        "colab": {}
      },
      "source": [
        "train_x = train_x / 255.\n",
        "test_x = test_x / 255."
      ],
      "execution_count": null,
      "outputs": []
    },
    {
      "cell_type": "code",
      "metadata": {
        "id": "rt3-X6DzpogY",
        "colab_type": "code",
        "colab": {
          "base_uri": "https://localhost:8080/",
          "height": 34
        },
        "outputId": "cb356924-af21-455a-ef4f-6883f97bbd0c"
      },
      "source": [
        "np.min(train_x), np.max(train_x)"
      ],
      "execution_count": null,
      "outputs": [
        {
          "output_type": "execute_result",
          "data": {
            "text/plain": [
              "(0.0, 1.0)"
            ]
          },
          "metadata": {
            "tags": []
          },
          "execution_count": 24
        }
      ]
    },
    {
      "cell_type": "code",
      "metadata": {
        "id": "VMGBrQN67U9M",
        "colab_type": "code",
        "colab": {
          "base_uri": "https://localhost:8080/"
        },
        "outputId": "47eb349f-745e-4064-c1c7-229eb4998ea4"
      },
      "source": [
        "train_y"
      ],
      "execution_count": null,
      "outputs": [
        {
          "output_type": "execute_result",
          "data": {
            "text/plain": [
              "array([5, 0, 4, ..., 5, 6, 8], dtype=uint8)"
            ]
          },
          "metadata": {
            "tags": []
          },
          "execution_count": 25
        }
      ]
    },
    {
      "cell_type": "markdown",
      "metadata": {
        "id": "esBKh00VpogZ",
        "colab_type": "text"
      },
      "source": [
        "# Training  \n",
        "본격적으로 학습 들어가기"
      ]
    },
    {
      "cell_type": "markdown",
      "metadata": {
        "id": "8SP1sV0mpoga",
        "colab_type": "text"
      },
      "source": [
        "학습용 Hyperparameter 설정\n",
        "\n",
        "- num_epochs\n",
        "- batch_size"
      ]
    },
    {
      "cell_type": "code",
      "metadata": {
        "id": "nei2YcPfpoga",
        "colab_type": "code",
        "colab": {}
      },
      "source": [
        "num_epochs = 1\n",
        "batch_size = 32"
      ],
      "execution_count": null,
      "outputs": []
    },
    {
      "cell_type": "markdown",
      "metadata": {
        "id": "9oQRXYTipogb",
        "colab_type": "text"
      },
      "source": [
        "- model.fit"
      ]
    },
    {
      "cell_type": "code",
      "metadata": {
        "id": "nduE3zDwpogc",
        "colab_type": "code",
        "colab": {
          "base_uri": "https://localhost:8080/",
          "height": 71
        },
        "outputId": "3880f6b8-c38c-4d76-e7ed-d9f6a8ea3ca7"
      },
      "source": [
        "model.fit(train_x, train_y,\n",
        "          batch_size=batch_size,\n",
        "          shuffle=True,\n",
        "          epochs=num_epochs)"
      ],
      "execution_count": 36,
      "outputs": [
        {
          "output_type": "stream",
          "text": [
            "1875/1875 [==============================] - 224s 119ms/step - loss: 0.0562 - sparse_categorical_accuracy: 0.9826\n"
          ],
          "name": "stdout"
        },
        {
          "output_type": "execute_result",
          "data": {
            "text/plain": [
              "<tensorflow.python.keras.callbacks.History at 0x7efd193bfba8>"
            ]
          },
          "metadata": {
            "tags": []
          },
          "execution_count": 36
        }
      ]
    },
    {
      "cell_type": "markdown",
      "metadata": {
        "id": "gf1QEFw2pogd",
        "colab_type": "text"
      },
      "source": [
        "# Check History  \n",
        "학습 과정(History) 결과 확인"
      ]
    },
    {
      "cell_type": "code",
      "metadata": {
        "id": "5SN9Nschpogd",
        "colab_type": "code",
        "colab": {
          "base_uri": "https://localhost:8080/",
          "height": 799
        },
        "outputId": "c413af11-1041-4a6e-b90f-32add6fbc610"
      },
      "source": [
        "model.summary()"
      ],
      "execution_count": 37,
      "outputs": [
        {
          "output_type": "stream",
          "text": [
            "Model: \"Basic_CNN\"\n",
            "_________________________________________________________________\n",
            "Layer (type)                 Output Shape              Param #   \n",
            "=================================================================\n",
            "input_1 (InputLayer)         [(None, 28, 28, 1)]       0         \n",
            "_________________________________________________________________\n",
            "conv2d (Conv2D)              (None, 28, 28, 32)        320       \n",
            "_________________________________________________________________\n",
            "activation (Activation)      (None, 28, 28, 32)        0         \n",
            "_________________________________________________________________\n",
            "conv2d_1 (Conv2D)            (None, 28, 28, 32)        9248      \n",
            "_________________________________________________________________\n",
            "activation_1 (Activation)    (None, 28, 28, 32)        0         \n",
            "_________________________________________________________________\n",
            "max_pooling2d (MaxPooling2D) (None, 14, 14, 32)        0         \n",
            "_________________________________________________________________\n",
            "dropout_1 (Dropout)          (None, 14, 14, 32)        0         \n",
            "_________________________________________________________________\n",
            "conv2d_2 (Conv2D)            (None, 14, 14, 64)        18496     \n",
            "_________________________________________________________________\n",
            "activation_2 (Activation)    (None, 14, 14, 64)        0         \n",
            "_________________________________________________________________\n",
            "conv2d_3 (Conv2D)            (None, 14, 14, 64)        36928     \n",
            "_________________________________________________________________\n",
            "activation_3 (Activation)    (None, 14, 14, 64)        0         \n",
            "_________________________________________________________________\n",
            "max_pooling2d_1 (MaxPooling2 (None, 7, 7, 64)          0         \n",
            "_________________________________________________________________\n",
            "dropout_2 (Dropout)          (None, 7, 7, 64)          0         \n",
            "_________________________________________________________________\n",
            "flatten_1 (Flatten)          (None, 3136)              0         \n",
            "_________________________________________________________________\n",
            "dense_2 (Dense)              (None, 512)               1606144   \n",
            "_________________________________________________________________\n",
            "activation_4 (Activation)    (None, 512)               0         \n",
            "_________________________________________________________________\n",
            "dropout_3 (Dropout)          (None, 512)               0         \n",
            "_________________________________________________________________\n",
            "dense_3 (Dense)              (None, 10)                5130      \n",
            "_________________________________________________________________\n",
            "activation_5 (Activation)    (None, 10)                0         \n",
            "=================================================================\n",
            "Total params: 1,676,266\n",
            "Trainable params: 1,676,266\n",
            "Non-trainable params: 0\n",
            "_________________________________________________________________\n"
          ],
          "name": "stdout"
        }
      ]
    },
    {
      "cell_type": "code",
      "metadata": {
        "id": "odrTXeEWRenu",
        "colab_type": "code",
        "colab": {}
      },
      "source": [
        ""
      ],
      "execution_count": null,
      "outputs": []
    }
  ]
}