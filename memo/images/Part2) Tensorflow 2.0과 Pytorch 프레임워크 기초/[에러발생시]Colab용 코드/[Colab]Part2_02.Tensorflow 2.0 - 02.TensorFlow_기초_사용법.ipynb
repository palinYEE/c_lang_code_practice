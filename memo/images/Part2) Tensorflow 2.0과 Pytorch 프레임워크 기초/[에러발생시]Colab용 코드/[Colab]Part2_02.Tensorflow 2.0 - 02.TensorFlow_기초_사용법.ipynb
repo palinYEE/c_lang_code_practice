{
  "nbformat": 4,
  "nbformat_minor": 0,
  "metadata": {
    "kernelspec": {
      "display_name": "Python 3",
      "language": "python",
      "name": "python3"
    },
    "language_info": {
      "codemirror_mode": {
        "name": "ipython",
        "version": 3
      },
      "file_extension": ".py",
      "mimetype": "text/x-python",
      "name": "python",
      "nbconvert_exporter": "python",
      "pygments_lexer": "ipython3",
      "version": "3.7.3"
    },
    "colab": {
      "name": "[검수완료]Part2-02. TensorFlow 기초 사용법 [before].ipynb",
      "provenance": []
    }
  },
  "cells": [
    {
      "cell_type": "markdown",
      "metadata": {
        "id": "WErgYBEUHzjN",
        "colab_type": "text"
      },
      "source": [
        "# 학습 목표"
      ]
    },
    {
      "cell_type": "markdown",
      "metadata": {
        "id": "xQRfuXZcHzjO",
        "colab_type": "text"
      },
      "source": [
        "- TensorFlow 2.0 간단 사용법"
      ]
    },
    {
      "cell_type": "code",
      "metadata": {
        "id": "y0w97mLZHzjO",
        "colab_type": "code",
        "colab": {}
      },
      "source": [
        "import numpy as np\n",
        "import tensorflow as tf"
      ],
      "execution_count": 3,
      "outputs": []
    },
    {
      "cell_type": "markdown",
      "metadata": {
        "id": "Fl-SEawEHzjR",
        "colab_type": "text"
      },
      "source": [
        "# Tensor 생성"
      ]
    },
    {
      "cell_type": "markdown",
      "metadata": {
        "id": "jLNINMFNHzjS",
        "colab_type": "text"
      },
      "source": [
        "- []\n",
        "    - List 생성"
      ]
    },
    {
      "cell_type": "code",
      "metadata": {
        "id": "Mhf4IjpYHzjS",
        "colab_type": "code",
        "colab": {
          "base_uri": "https://localhost:8080/",
          "height": 34
        },
        "outputId": "abf65e88-e16d-4baf-bc98-b4231c17b80e"
      },
      "source": [
        "[1,2,3]"
      ],
      "execution_count": 4,
      "outputs": [
        {
          "output_type": "execute_result",
          "data": {
            "text/plain": [
              "[1, 2, 3]"
            ]
          },
          "metadata": {
            "tags": []
          },
          "execution_count": 4
        }
      ]
    },
    {
      "cell_type": "code",
      "metadata": {
        "id": "pRMTCaDAHzjV",
        "colab_type": "code",
        "colab": {
          "base_uri": "https://localhost:8080/",
          "height": 34
        },
        "outputId": "5867af3f-6caa-418e-eb46-7a5ca30f49fa"
      },
      "source": [
        "[[1,2,3],[4,5,6]]"
      ],
      "execution_count": 5,
      "outputs": [
        {
          "output_type": "execute_result",
          "data": {
            "text/plain": [
              "[[1, 2, 3], [4, 5, 6]]"
            ]
          },
          "metadata": {
            "tags": []
          },
          "execution_count": 5
        }
      ]
    },
    {
      "cell_type": "markdown",
      "metadata": {
        "id": "TtqFJ-7GHzjX",
        "colab_type": "text"
      },
      "source": [
        "### Array 생성"
      ]
    },
    {
      "cell_type": "markdown",
      "metadata": {
        "id": "rVUDWivdHzjY",
        "colab_type": "text"
      },
      "source": [
        "- tuple이나 list 둘 다 np.array()로 씌어서 array를 만들 수 있음"
      ]
    },
    {
      "cell_type": "code",
      "metadata": {
        "id": "9XOYGz08HzjY",
        "colab_type": "code",
        "colab": {}
      },
      "source": [
        "arr = np.array([1,2,3])"
      ],
      "execution_count": 6,
      "outputs": []
    },
    {
      "cell_type": "code",
      "metadata": {
        "id": "-zcEnx83Hzja",
        "colab_type": "code",
        "colab": {
          "base_uri": "https://localhost:8080/",
          "height": 34
        },
        "outputId": "a50db47d-4144-469c-a403-f9b0f4ca47ee"
      },
      "source": [
        "arr.shape"
      ],
      "execution_count": 7,
      "outputs": [
        {
          "output_type": "execute_result",
          "data": {
            "text/plain": [
              "(3,)"
            ]
          },
          "metadata": {
            "tags": []
          },
          "execution_count": 7
        }
      ]
    },
    {
      "cell_type": "code",
      "metadata": {
        "id": "pP81rbOpHzjd",
        "colab_type": "code",
        "colab": {}
      },
      "source": [
        "arr = np.array([[1,2,3],[4,5,6]])"
      ],
      "execution_count": 8,
      "outputs": []
    },
    {
      "cell_type": "code",
      "metadata": {
        "id": "0k_si59lHzjf",
        "colab_type": "code",
        "colab": {
          "base_uri": "https://localhost:8080/",
          "height": 34
        },
        "outputId": "a7ad8ae8-d4f9-4f60-9387-cc9a80b84635"
      },
      "source": [
        "arr.shape"
      ],
      "execution_count": 9,
      "outputs": [
        {
          "output_type": "execute_result",
          "data": {
            "text/plain": [
              "(2, 3)"
            ]
          },
          "metadata": {
            "tags": []
          },
          "execution_count": 9
        }
      ]
    },
    {
      "cell_type": "markdown",
      "metadata": {
        "id": "imo_B0tXHzjh",
        "colab_type": "text"
      },
      "source": [
        "### Tensor 생성"
      ]
    },
    {
      "cell_type": "markdown",
      "metadata": {
        "id": "ccj4LnodHzji",
        "colab_type": "text"
      },
      "source": [
        "- tf.constant()\n",
        "    - list -> Tensor"
      ]
    },
    {
      "cell_type": "code",
      "metadata": {
        "id": "W3DPQxbhHzji",
        "colab_type": "code",
        "colab": {
          "base_uri": "https://localhost:8080/",
          "height": 34
        },
        "outputId": "328fab73-1e7e-4c38-b93b-f3cd86eb7367"
      },
      "source": [
        "tf.constant([1,2,3])"
      ],
      "execution_count": 10,
      "outputs": [
        {
          "output_type": "execute_result",
          "data": {
            "text/plain": [
              "<tf.Tensor: shape=(3,), dtype=int32, numpy=array([1, 2, 3], dtype=int32)>"
            ]
          },
          "metadata": {
            "tags": []
          },
          "execution_count": 10
        }
      ]
    },
    {
      "cell_type": "markdown",
      "metadata": {
        "id": "kJfPhNE5Hzjk",
        "colab_type": "text"
      },
      "source": [
        "- tf.constant()\n",
        "    - tuple -> Tensor"
      ]
    },
    {
      "cell_type": "code",
      "metadata": {
        "id": "C9fUyPeKHzjl",
        "colab_type": "code",
        "colab": {
          "base_uri": "https://localhost:8080/",
          "height": 68
        },
        "outputId": "70687e20-3ffa-4339-8bd3-0fcf96478203"
      },
      "source": [
        "tf.constant(((1,2,3),(4,5,6)))"
      ],
      "execution_count": 11,
      "outputs": [
        {
          "output_type": "execute_result",
          "data": {
            "text/plain": [
              "<tf.Tensor: shape=(2, 3), dtype=int32, numpy=\n",
              "array([[1, 2, 3],\n",
              "       [4, 5, 6]], dtype=int32)>"
            ]
          },
          "metadata": {
            "tags": []
          },
          "execution_count": 11
        }
      ]
    },
    {
      "cell_type": "markdown",
      "metadata": {
        "id": "F0tP3-keHzjn",
        "colab_type": "text"
      },
      "source": [
        "- tf.constant()\n",
        "    - Array -> Tensor"
      ]
    },
    {
      "cell_type": "code",
      "metadata": {
        "id": "mmSUFUuYHzjn",
        "colab_type": "code",
        "colab": {}
      },
      "source": [
        "arr = np.array([1,2,3])"
      ],
      "execution_count": 12,
      "outputs": []
    },
    {
      "cell_type": "code",
      "metadata": {
        "id": "CENvYSkWHzjq",
        "colab_type": "code",
        "colab": {
          "base_uri": "https://localhost:8080/",
          "height": 34
        },
        "outputId": "f22cccf4-e26d-4bb1-cafe-4541b9f68578"
      },
      "source": [
        "tensor = tf.constant(arr)\n",
        "tensor\n"
      ],
      "execution_count": 13,
      "outputs": [
        {
          "output_type": "execute_result",
          "data": {
            "text/plain": [
              "<tf.Tensor: shape=(3,), dtype=int64, numpy=array([1, 2, 3])>"
            ]
          },
          "metadata": {
            "tags": []
          },
          "execution_count": 13
        }
      ]
    },
    {
      "cell_type": "markdown",
      "metadata": {
        "id": "cE55okfIHzjs",
        "colab_type": "text"
      },
      "source": [
        "### Tensor에 담긴 정보 확인"
      ]
    },
    {
      "cell_type": "markdown",
      "metadata": {
        "id": "_OOP9QdXHzjs",
        "colab_type": "text"
      },
      "source": [
        "- shape 확인"
      ]
    },
    {
      "cell_type": "code",
      "metadata": {
        "id": "h2yI2OVqHzjt",
        "colab_type": "code",
        "colab": {
          "base_uri": "https://localhost:8080/",
          "height": 34
        },
        "outputId": "289aa741-48cd-431a-febe-63361ca9f786"
      },
      "source": [
        "tensor.shape"
      ],
      "execution_count": 14,
      "outputs": [
        {
          "output_type": "execute_result",
          "data": {
            "text/plain": [
              "TensorShape([3])"
            ]
          },
          "metadata": {
            "tags": []
          },
          "execution_count": 14
        }
      ]
    },
    {
      "cell_type": "markdown",
      "metadata": {
        "id": "hltDC7zcHzju",
        "colab_type": "text"
      },
      "source": [
        "- data type 확인\n",
        "    - 주의: Tensor 생성 할 때도 data type을 정해주지 않기 때문에 data type에 대한 혼동이 올 수 있음\n",
        "    - Data Type에 따라 모델의 무게나 성능 차이에도 영향을 줄 수 있음"
      ]
    },
    {
      "cell_type": "code",
      "metadata": {
        "id": "Tfd14SyHHzjv",
        "colab_type": "code",
        "colab": {
          "base_uri": "https://localhost:8080/",
          "height": 34
        },
        "outputId": "6eb57bdc-741b-4849-873a-45a177e4cf1b"
      },
      "source": [
        "tensor.dtype"
      ],
      "execution_count": 15,
      "outputs": [
        {
          "output_type": "execute_result",
          "data": {
            "text/plain": [
              "tf.int64"
            ]
          },
          "metadata": {
            "tags": []
          },
          "execution_count": 15
        }
      ]
    },
    {
      "cell_type": "markdown",
      "metadata": {
        "id": "0HeHljQNHzjx",
        "colab_type": "text"
      },
      "source": [
        "- data type 정의"
      ]
    },
    {
      "cell_type": "code",
      "metadata": {
        "id": "YDQ4TSadHzjx",
        "colab_type": "code",
        "colab": {
          "base_uri": "https://localhost:8080/",
          "height": 34
        },
        "outputId": "61adaa54-ef5e-4692-ee90-989fd6618ed4"
      },
      "source": [
        "tensor = tf.constant([1,2,3], dtype=tf.float32)\n",
        "tensor"
      ],
      "execution_count": 16,
      "outputs": [
        {
          "output_type": "execute_result",
          "data": {
            "text/plain": [
              "<tf.Tensor: shape=(3,), dtype=float32, numpy=array([1., 2., 3.], dtype=float32)>"
            ]
          },
          "metadata": {
            "tags": []
          },
          "execution_count": 16
        }
      ]
    },
    {
      "cell_type": "markdown",
      "metadata": {
        "id": "UORWKKhZHzjz",
        "colab_type": "text"
      },
      "source": [
        "- data type 변환\n",
        "    - Numpy에서 astype()을 주었듯이, TensorFlow에서는 tf.cast를 사용"
      ]
    },
    {
      "cell_type": "code",
      "metadata": {
        "id": "F0vUP0SMHzj0",
        "colab_type": "code",
        "colab": {
          "base_uri": "https://localhost:8080/",
          "height": 34
        },
        "outputId": "1621a396-f22f-4031-d529-fbc72e4cea8f"
      },
      "source": [
        "tf.cast(tensor, dtype=tf.uint8)"
      ],
      "execution_count": 17,
      "outputs": [
        {
          "output_type": "execute_result",
          "data": {
            "text/plain": [
              "<tf.Tensor: shape=(3,), dtype=uint8, numpy=array([1, 2, 3], dtype=uint8)>"
            ]
          },
          "metadata": {
            "tags": []
          },
          "execution_count": 17
        }
      ]
    },
    {
      "cell_type": "markdown",
      "metadata": {
        "id": "WY8kodOCHzj8",
        "colab_type": "text"
      },
      "source": [
        "- Tensor에서 Numpy 불러오기\n",
        "    - .numpy()"
      ]
    },
    {
      "cell_type": "code",
      "metadata": {
        "id": "vz3GmnR6Hzj8",
        "colab_type": "code",
        "colab": {
          "base_uri": "https://localhost:8080/",
          "height": 34
        },
        "outputId": "6fb74e7c-dd82-486d-e303-5551356b9534"
      },
      "source": [
        "tensor.numpy()"
      ],
      "execution_count": 18,
      "outputs": [
        {
          "output_type": "execute_result",
          "data": {
            "text/plain": [
              "array([1., 2., 3.], dtype=float32)"
            ]
          },
          "metadata": {
            "tags": []
          },
          "execution_count": 18
        }
      ]
    },
    {
      "cell_type": "markdown",
      "metadata": {
        "id": "ub4J6nLJHzj-",
        "colab_type": "text"
      },
      "source": [
        "- Tensor에서 Numpy 불러오기\n",
        "    - np.array()"
      ]
    },
    {
      "cell_type": "code",
      "metadata": {
        "id": "QVTsgugfHzj-",
        "colab_type": "code",
        "colab": {
          "base_uri": "https://localhost:8080/",
          "height": 34
        },
        "outputId": "cb7ea81a-f192-488e-846e-fb0e992a3db7"
      },
      "source": [
        "np.array(tensor)"
      ],
      "execution_count": 22,
      "outputs": [
        {
          "output_type": "execute_result",
          "data": {
            "text/plain": [
              "array([1., 2., 3.], dtype=float32)"
            ]
          },
          "metadata": {
            "tags": []
          },
          "execution_count": 22
        }
      ]
    },
    {
      "cell_type": "markdown",
      "metadata": {
        "id": "fpxysv-fHzkA",
        "colab_type": "text"
      },
      "source": [
        "type()를 사용하여 numpy array로 변환된 것 확인"
      ]
    },
    {
      "cell_type": "code",
      "metadata": {
        "id": "ZI2SE82gHzkA",
        "colab_type": "code",
        "colab": {
          "base_uri": "https://localhost:8080/",
          "height": 34
        },
        "outputId": "a3d08337-6fd2-44bf-9fbf-606d87bb771f"
      },
      "source": [
        "type(tensor)"
      ],
      "execution_count": 23,
      "outputs": [
        {
          "output_type": "execute_result",
          "data": {
            "text/plain": [
              "tensorflow.python.framework.ops.EagerTensor"
            ]
          },
          "metadata": {
            "tags": []
          },
          "execution_count": 23
        }
      ]
    },
    {
      "cell_type": "code",
      "metadata": {
        "id": "B-GyfJDKHzkC",
        "colab_type": "code",
        "colab": {
          "base_uri": "https://localhost:8080/",
          "height": 34
        },
        "outputId": "d0b92c61-87b7-498e-ba4f-ec3f03f4f099"
      },
      "source": [
        "type(tensor.numpy())"
      ],
      "execution_count": 24,
      "outputs": [
        {
          "output_type": "execute_result",
          "data": {
            "text/plain": [
              "numpy.ndarray"
            ]
          },
          "metadata": {
            "tags": []
          },
          "execution_count": 24
        }
      ]
    },
    {
      "cell_type": "markdown",
      "metadata": {
        "id": "fwxrrjMUHzkE",
        "colab_type": "text"
      },
      "source": [
        "## 난수 생성"
      ]
    },
    {
      "cell_type": "markdown",
      "metadata": {
        "id": "K6vpm-fNHzkF",
        "colab_type": "text"
      },
      "source": [
        "![image.png](attachment:image.png)"
      ]
    },
    {
      "cell_type": "markdown",
      "metadata": {
        "id": "ehVGFGLRHzkF",
        "colab_type": "text"
      },
      "source": [
        "- Normal Distribution은 중심극한 이론에 의한 연속적인 모양   \n",
        "- Uniform Distribution은 중심 극한 이론과는 무관하며 불연속적이며 일정한 분포"
      ]
    },
    {
      "cell_type": "markdown",
      "metadata": {
        "id": "MAZuNw4eHzkF",
        "colab_type": "text"
      },
      "source": [
        "- numpy에서는 normal distribution을 기본적으로 생성\n",
        "    - np.random.randn()"
      ]
    },
    {
      "cell_type": "code",
      "metadata": {
        "id": "83a2ItE0HzkG",
        "colab_type": "code",
        "colab": {
          "base_uri": "https://localhost:8080/",
          "height": 51
        },
        "outputId": "51175db8-3f01-490c-a47a-0ecdf304105c"
      },
      "source": [
        "np.random.randn(9)"
      ],
      "execution_count": 19,
      "outputs": [
        {
          "output_type": "execute_result",
          "data": {
            "text/plain": [
              "array([ 1.1574305 , -0.75176291,  0.06148397,  2.29594579, -1.4134364 ,\n",
              "       -0.25221544,  0.28678027, -1.44336104, -0.06622869])"
            ]
          },
          "metadata": {
            "tags": []
          },
          "execution_count": 19
        }
      ]
    },
    {
      "cell_type": "markdown",
      "metadata": {
        "id": "hsoQJaXdHzkI",
        "colab_type": "text"
      },
      "source": [
        "- tf.random.normal\n",
        "    - TensorFlow에서 Normal Distribution"
      ]
    },
    {
      "cell_type": "code",
      "metadata": {
        "id": "w04Gb53DHzkI",
        "colab_type": "code",
        "colab": {
          "base_uri": "https://localhost:8080/",
          "height": 85
        },
        "outputId": "ef339510-df83-4841-bc89-41f6e0fdc0b9"
      },
      "source": [
        "tf.random.normal([3,3])"
      ],
      "execution_count": 20,
      "outputs": [
        {
          "output_type": "execute_result",
          "data": {
            "text/plain": [
              "<tf.Tensor: shape=(3, 3), dtype=float32, numpy=\n",
              "array([[-0.5211507 ,  1.3257143 ,  1.5183275 ],\n",
              "       [-1.2821234 ,  2.3091424 ,  0.4495921 ],\n",
              "       [-0.63997054, -0.97778577, -1.9077669 ]], dtype=float32)>"
            ]
          },
          "metadata": {
            "tags": []
          },
          "execution_count": 20
        }
      ]
    },
    {
      "cell_type": "markdown",
      "metadata": {
        "id": "zuuPBSehHzkK",
        "colab_type": "text"
      },
      "source": [
        "- tf.random.uniform\n",
        "    - TensorFlow에서 Uniform Distribution"
      ]
    },
    {
      "cell_type": "code",
      "metadata": {
        "id": "CgK3hOWKHzkK",
        "colab_type": "code",
        "colab": {
          "base_uri": "https://localhost:8080/",
          "height": 102
        },
        "outputId": "8e35c60a-9580-4e48-c079-2ecd340347cc"
      },
      "source": [
        "tf.random.uniform([4,4])"
      ],
      "execution_count": 21,
      "outputs": [
        {
          "output_type": "execute_result",
          "data": {
            "text/plain": [
              "<tf.Tensor: shape=(4, 4), dtype=float32, numpy=\n",
              "array([[0.9259653 , 0.6479056 , 0.5685812 , 0.7911737 ],\n",
              "       [0.8304839 , 0.67716646, 0.27734947, 0.4015795 ],\n",
              "       [0.5865394 , 0.08203554, 0.14047122, 0.9682572 ],\n",
              "       [0.30368567, 0.54643   , 0.20865321, 0.86724293]], dtype=float32)>"
            ]
          },
          "metadata": {
            "tags": []
          },
          "execution_count": 21
        }
      ]
    },
    {
      "cell_type": "code",
      "metadata": {
        "id": "M0nln3frK09r",
        "colab_type": "code",
        "colab": {}
      },
      "source": [
        ""
      ],
      "execution_count": 21,
      "outputs": []
    }
  ]
}